{
 "cells": [
  {
   "cell_type": "markdown",
   "id": "c2bbdef0-12a0-44eb-83e3-b326e16a5efd",
   "metadata": {},
   "source": [
    "# Costumer Prediction\n",
    "\n",
    "**Author**: Rizal Aditya <br>\n",
    "\n",
    "[![LinkedIn](https://img.shields.io/badge/linkedin-0077B5?style=for-the-badge&logo=linkedin&logoColor=white&link=https://www.linkedin.com/in/adhangmuntaha/)](https://www.linkedin.com/in/rzladitya/)\n",
    "[![GitHub](https://img.shields.io/badge/github-121011?style=for-the-badge&logo=github&logoColor=white&link=https://github.com/hujikan2)](https://github.com/hujikan2)\n",
    "-----\n",
    "\n",
    "## Context\n",
    "\n",
    "A customer event is an alternative that may be more expensive than participating in a fair, but the profitability is many times higher. People invited and operating in the field will come to the event. Achieving contact with quality is significantly higher.\n",
    "\n",
    "A customer event is a good place to emphasize the latest biggest achievements, present new products, or keep good contact in a cozy-free atmosphere with your customers and partners. Why not invite to the event all of the potential customers with whom it is good to speak on-site.\n",
    "\n",
    "## Task\n",
    "As a data scientist, we will help activists who hold events to increase profits from selling products that are exhibited at the event.\n",
    "With the help of computers, we will create machine learning models that can predict whether customers who come to the event will buy the products that we show at the event.\n",
    "\n",
    "what are you waiting for, let's create a machine learning model that can increase the profit performance of these events. Ⓜ\n"
   ]
  },
  {
   "cell_type": "markdown",
   "id": "df1f687c-f7cb-4326-bf7d-ec2f672dacec",
   "metadata": {
    "tags": []
   },
   "source": [
    "# Import Libary\n"
   ]
  },
  {
   "cell_type": "markdown",
   "id": "3046a817-d3f5-41c3-aaed-d941153fe318",
   "metadata": {},
   "source": [
    "first we will import the library that will be used in the visualization process (explore data), data preprocessing and modeling."
   ]
  },
  {
   "cell_type": "code",
   "execution_count": 41,
   "id": "d262a8d2-83c9-4bb0-84a7-3ae1db427684",
   "metadata": {},
   "outputs": [],
   "source": [
    "import pandas as pd\n",
    "import numpy as np\n",
    "import panel as pn\n",
    "import seaborn as sns\n",
    "import matplotlib.pyplot as plt\n",
    "\n",
    "from sklearn.model_selection import train_test_split\n",
    "from sklearn.preprocessing import StandardScaler, LabelEncoder\n",
    "from sklearn.model_selection import RandomizedSearchCV\n",
    "from sklearn.svm import SVC\n",
    "from sklearn.linear_model import LogisticRegression\n",
    "from sklearn.tree import DecisionTreeClassifier\n",
    "from sklearn.ensemble import RandomForestClassifier\n",
    "from sklearn.neighbors import KNeighborsClassifier\n",
    "from sklearn.metrics import confusion_matrix, classification_report, precision_score, recall_score,  f1_score, accuracy_score\n"
   ]
  },
  {
   "cell_type": "code",
   "execution_count": 2,
   "id": "f03d527e-dc11-4e21-9fba-304e1e2e6d71",
   "metadata": {},
   "outputs": [],
   "source": [
    "# import dataset\n",
    "df = pd.read_csv(\"dataset/first question/user-events.csv\")\n",
    "df_copy = df.copy()"
   ]
  },
  {
   "cell_type": "code",
   "execution_count": 3,
   "id": "a8657838-d176-4542-ae12-874e8748bc0d",
   "metadata": {},
   "outputs": [
    {
     "data": {
      "text/html": [
       "<div>\n",
       "<style scoped>\n",
       "    .dataframe tbody tr th:only-of-type {\n",
       "        vertical-align: middle;\n",
       "    }\n",
       "\n",
       "    .dataframe tbody tr th {\n",
       "        vertical-align: top;\n",
       "    }\n",
       "\n",
       "    .dataframe thead th {\n",
       "        text-align: right;\n",
       "    }\n",
       "</style>\n",
       "<table border=\"1\" class=\"dataframe\">\n",
       "  <thead>\n",
       "    <tr style=\"text-align: right;\">\n",
       "      <th></th>\n",
       "      <th>event_time</th>\n",
       "      <th>event_type</th>\n",
       "      <th>product_id</th>\n",
       "      <th>category_id</th>\n",
       "      <th>category_code</th>\n",
       "      <th>brand</th>\n",
       "      <th>price</th>\n",
       "      <th>user_id</th>\n",
       "      <th>user_session</th>\n",
       "    </tr>\n",
       "  </thead>\n",
       "  <tbody>\n",
       "    <tr>\n",
       "      <th>0</th>\n",
       "      <td>2020-09-24 11:57:06 UTC</td>\n",
       "      <td>view</td>\n",
       "      <td>1996170</td>\n",
       "      <td>2144415922528452715</td>\n",
       "      <td>electronics.telephone</td>\n",
       "      <td>NaN</td>\n",
       "      <td>31.90</td>\n",
       "      <td>1515915625519388267</td>\n",
       "      <td>LJuJVLEjPT</td>\n",
       "    </tr>\n",
       "    <tr>\n",
       "      <th>1</th>\n",
       "      <td>2020-09-24 11:57:26 UTC</td>\n",
       "      <td>view</td>\n",
       "      <td>139905</td>\n",
       "      <td>2144415926932472027</td>\n",
       "      <td>computers.components.cooler</td>\n",
       "      <td>zalman</td>\n",
       "      <td>17.16</td>\n",
       "      <td>1515915625519380411</td>\n",
       "      <td>tdicluNnRY</td>\n",
       "    </tr>\n",
       "    <tr>\n",
       "      <th>2</th>\n",
       "      <td>2020-09-24 11:57:27 UTC</td>\n",
       "      <td>view</td>\n",
       "      <td>215454</td>\n",
       "      <td>2144415927158964449</td>\n",
       "      <td>NaN</td>\n",
       "      <td>NaN</td>\n",
       "      <td>9.81</td>\n",
       "      <td>1515915625513238515</td>\n",
       "      <td>4TMArHtXQy</td>\n",
       "    </tr>\n",
       "    <tr>\n",
       "      <th>3</th>\n",
       "      <td>2020-09-24 11:57:33 UTC</td>\n",
       "      <td>view</td>\n",
       "      <td>635807</td>\n",
       "      <td>2144415923107266682</td>\n",
       "      <td>computers.peripherals.printer</td>\n",
       "      <td>pantum</td>\n",
       "      <td>113.81</td>\n",
       "      <td>1515915625519014356</td>\n",
       "      <td>aGFYrNgC08</td>\n",
       "    </tr>\n",
       "    <tr>\n",
       "      <th>4</th>\n",
       "      <td>2020-09-24 11:57:36 UTC</td>\n",
       "      <td>view</td>\n",
       "      <td>3658723</td>\n",
       "      <td>2144415921169498184</td>\n",
       "      <td>NaN</td>\n",
       "      <td>cameronsino</td>\n",
       "      <td>15.87</td>\n",
       "      <td>1515915625510743344</td>\n",
       "      <td>aa4mmk0kwQ</td>\n",
       "    </tr>\n",
       "  </tbody>\n",
       "</table>\n",
       "</div>"
      ],
      "text/plain": [
       "                event_time event_type  product_id          category_id  \\\n",
       "0  2020-09-24 11:57:06 UTC       view     1996170  2144415922528452715   \n",
       "1  2020-09-24 11:57:26 UTC       view      139905  2144415926932472027   \n",
       "2  2020-09-24 11:57:27 UTC       view      215454  2144415927158964449   \n",
       "3  2020-09-24 11:57:33 UTC       view      635807  2144415923107266682   \n",
       "4  2020-09-24 11:57:36 UTC       view     3658723  2144415921169498184   \n",
       "\n",
       "                   category_code        brand   price              user_id  \\\n",
       "0          electronics.telephone          NaN   31.90  1515915625519388267   \n",
       "1    computers.components.cooler       zalman   17.16  1515915625519380411   \n",
       "2                            NaN          NaN    9.81  1515915625513238515   \n",
       "3  computers.peripherals.printer       pantum  113.81  1515915625519014356   \n",
       "4                            NaN  cameronsino   15.87  1515915625510743344   \n",
       "\n",
       "  user_session  \n",
       "0   LJuJVLEjPT  \n",
       "1   tdicluNnRY  \n",
       "2   4TMArHtXQy  \n",
       "3   aGFYrNgC08  \n",
       "4   aa4mmk0kwQ  "
      ]
     },
     "execution_count": 3,
     "metadata": {},
     "output_type": "execute_result"
    }
   ],
   "source": [
    "# Show 5 rows\n",
    "df_copy.head()"
   ]
  },
  {
   "cell_type": "code",
   "execution_count": 4,
   "id": "a8ff3ab3-d55b-42ee-95a1-1c2a9e7b596d",
   "metadata": {},
   "outputs": [
    {
     "name": "stdout",
     "output_type": "stream",
     "text": [
      "<class 'pandas.core.frame.DataFrame'>\n",
      "RangeIndex: 885129 entries, 0 to 885128\n",
      "Data columns (total 9 columns):\n",
      " #   Column         Non-Null Count   Dtype  \n",
      "---  ------         --------------   -----  \n",
      " 0   event_time     885129 non-null  object \n",
      " 1   event_type     885129 non-null  object \n",
      " 2   product_id     885129 non-null  int64  \n",
      " 3   category_id    885129 non-null  int64  \n",
      " 4   category_code  648910 non-null  object \n",
      " 5   brand          672765 non-null  object \n",
      " 6   price          885129 non-null  float64\n",
      " 7   user_id        885129 non-null  int64  \n",
      " 8   user_session   884964 non-null  object \n",
      "dtypes: float64(1), int64(3), object(5)\n",
      "memory usage: 60.8+ MB\n"
     ]
    }
   ],
   "source": [
    "# Show information about dataset\n",
    "df_copy.info()"
   ]
  },
  {
   "cell_type": "markdown",
   "id": "83306eec-e701-4681-a47d-391d244a39c1",
   "metadata": {},
   "source": [
    "## Convert datatype and add extract data add to new columns"
   ]
  },
  {
   "cell_type": "code",
   "execution_count": 5,
   "id": "5cd898b3-0547-4b58-9727-e55c8e5a58a0",
   "metadata": {},
   "outputs": [],
   "source": [
    "# convert dtype 'event_time' to datetime in pandas\n",
    "# using pd.to_datetime for convert\n",
    "df_copy['event_time'] = pd.to_datetime(df_copy['event_time'],  infer_datetime_format=True)\n",
    "\n",
    "# next create new columns\n",
    "# extract data from df['ecevent_time']\n",
    "# i.o 'year', 'month', 'date', 'hour'\n",
    "df_copy['year'] = df_copy['event_time'].dt.year\n",
    "df_copy['month'] = df_copy['event_time'].dt.month_name()\n",
    "df_copy['date'] = df_copy['event_time'].dt.day_name()\n",
    "df_copy['hour'] = df_copy['event_time'].dt.hour\n",
    "\n",
    "# next drop columns 'event_time'\n",
    "df_copy.drop(columns=['event_time'], axis=1, inplace=True)"
   ]
  },
  {
   "cell_type": "code",
   "execution_count": 6,
   "id": "2d0735ea-d536-4d4e-8d74-76a81c296fd1",
   "metadata": {},
   "outputs": [],
   "source": [
    "# splitting 'category_code' column into Two columns\n",
    "# i.e. 'category' and 'product_name'respectively and\n",
    "# Adding these columns to the existing dataframe.\n",
    "df_copy['category'] = df_copy['category_code'].astype(str).apply(lambda x: x.split('.')[0]) # Split data from category_code and add new column category \n",
    "df_copy['product_name'] = df_copy['category_code'].astype(str).apply(lambda x: x.split('.')[-1]) # Split data form category_code and add new columns product_name\n",
    "df_copy.drop(columns=['category_code'], axis=1, inplace=True) # dropp colum 'category_code'\n"
   ]
  },
  {
   "cell_type": "markdown",
   "id": "1dfc2c4a-0f30-488a-8200-3b9007be82ad",
   "metadata": {},
   "source": [
    "After we saw the 5 rows of data, I thought of directly extracting the data in order to add the features we want."
   ]
  },
  {
   "cell_type": "markdown",
   "id": "70430125-db03-4598-8ce2-a254c2e9b3d6",
   "metadata": {},
   "source": [
    "## Check Duplicated Data and Handling duplicated data"
   ]
  },
  {
   "cell_type": "markdown",
   "id": "319b852f-ec50-4c13-9427-6d7cf5824d11",
   "metadata": {},
   "source": [
    "\n",
    "<img src=\"https://res.cloudinary.com/hevo/images/f_auto,q_auto/v1649077632/hevo-learn/duplicate-data-1/duplicate-data-1.png?_i=AA\" width=100%>\n",
    "\n",
    "Duplicate data is any record that inadvertently shares data with another record in a Database. Duplicate data is easy to spot and it mostly occurs when transferring data between systems.\n",
    "\n",
    "The most popular occurrence of duplicate data is a complete carbon copy of a record. Partial duplicates are also common in organizations. These are records with the same Name, Email, Phone Number, or Address, but with other non-matching data. If not dealt with, duplicate records can be harmful to your business.\n",
    "\n",
    "Duplicate records make your data dirty. Any reports generated from such data will not be accurate, hence, businesses cannot rely on them to make sound decisions. Now, let's discuss how duplicate data harms your business."
   ]
  },
  {
   "cell_type": "code",
   "execution_count": 7,
   "id": "4c09b3f4-0ed6-4291-88a3-e9e1eb9dec25",
   "metadata": {},
   "outputs": [
    {
     "name": "stdout",
     "output_type": "stream",
     "text": [
      "Duplicate Rows :\n"
     ]
    },
    {
     "data": {
      "text/html": [
       "<div>\n",
       "<style scoped>\n",
       "    .dataframe tbody tr th:only-of-type {\n",
       "        vertical-align: middle;\n",
       "    }\n",
       "\n",
       "    .dataframe tbody tr th {\n",
       "        vertical-align: top;\n",
       "    }\n",
       "\n",
       "    .dataframe thead th {\n",
       "        text-align: right;\n",
       "    }\n",
       "</style>\n",
       "<table border=\"1\" class=\"dataframe\">\n",
       "  <thead>\n",
       "    <tr style=\"text-align: right;\">\n",
       "      <th></th>\n",
       "      <th>event_type</th>\n",
       "      <th>product_id</th>\n",
       "      <th>category_id</th>\n",
       "      <th>brand</th>\n",
       "      <th>price</th>\n",
       "      <th>user_id</th>\n",
       "      <th>user_session</th>\n",
       "      <th>year</th>\n",
       "      <th>month</th>\n",
       "      <th>date</th>\n",
       "      <th>hour</th>\n",
       "      <th>category</th>\n",
       "      <th>product_name</th>\n",
       "    </tr>\n",
       "  </thead>\n",
       "  <tbody>\n",
       "    <tr>\n",
       "      <th>11</th>\n",
       "      <td>view</td>\n",
       "      <td>811491</td>\n",
       "      <td>2144415926370435276</td>\n",
       "      <td>ritmix</td>\n",
       "      <td>33.32</td>\n",
       "      <td>1515915625356205647</td>\n",
       "      <td>aFLc6y9kn4</td>\n",
       "      <td>2020</td>\n",
       "      <td>September</td>\n",
       "      <td>Thursday</td>\n",
       "      <td>11</td>\n",
       "      <td>nan</td>\n",
       "      <td>nan</td>\n",
       "    </tr>\n",
       "    <tr>\n",
       "      <th>25</th>\n",
       "      <td>view</td>\n",
       "      <td>1021484</td>\n",
       "      <td>2144415944976368325</td>\n",
       "      <td>NaN</td>\n",
       "      <td>202.98</td>\n",
       "      <td>1515915625519389101</td>\n",
       "      <td>fO4BG6BTMi</td>\n",
       "      <td>2020</td>\n",
       "      <td>September</td>\n",
       "      <td>Thursday</td>\n",
       "      <td>12</td>\n",
       "      <td>nan</td>\n",
       "      <td>nan</td>\n",
       "    </tr>\n",
       "    <tr>\n",
       "      <th>47</th>\n",
       "      <td>view</td>\n",
       "      <td>3536864</td>\n",
       "      <td>2144415935732122060</td>\n",
       "      <td>sirius</td>\n",
       "      <td>47.14</td>\n",
       "      <td>1515915625519382571</td>\n",
       "      <td>Ve8a3LzDoI</td>\n",
       "      <td>2020</td>\n",
       "      <td>September</td>\n",
       "      <td>Thursday</td>\n",
       "      <td>12</td>\n",
       "      <td>nan</td>\n",
       "      <td>nan</td>\n",
       "    </tr>\n",
       "    <tr>\n",
       "      <th>49</th>\n",
       "      <td>view</td>\n",
       "      <td>261923</td>\n",
       "      <td>2144415922939494519</td>\n",
       "      <td>panasonic</td>\n",
       "      <td>37.75</td>\n",
       "      <td>1515915625519388006</td>\n",
       "      <td>17S2LXOG91</td>\n",
       "      <td>2020</td>\n",
       "      <td>September</td>\n",
       "      <td>Thursday</td>\n",
       "      <td>12</td>\n",
       "      <td>nan</td>\n",
       "      <td>nan</td>\n",
       "    </tr>\n",
       "    <tr>\n",
       "      <th>51</th>\n",
       "      <td>view</td>\n",
       "      <td>3536864</td>\n",
       "      <td>2144415935732122060</td>\n",
       "      <td>sirius</td>\n",
       "      <td>47.14</td>\n",
       "      <td>1515915625519382571</td>\n",
       "      <td>Ve8a3LzDoI</td>\n",
       "      <td>2020</td>\n",
       "      <td>September</td>\n",
       "      <td>Thursday</td>\n",
       "      <td>12</td>\n",
       "      <td>nan</td>\n",
       "      <td>nan</td>\n",
       "    </tr>\n",
       "    <tr>\n",
       "      <th>...</th>\n",
       "      <td>...</td>\n",
       "      <td>...</td>\n",
       "      <td>...</td>\n",
       "      <td>...</td>\n",
       "      <td>...</td>\n",
       "      <td>...</td>\n",
       "      <td>...</td>\n",
       "      <td>...</td>\n",
       "      <td>...</td>\n",
       "      <td>...</td>\n",
       "      <td>...</td>\n",
       "      <td>...</td>\n",
       "      <td>...</td>\n",
       "    </tr>\n",
       "    <tr>\n",
       "      <th>885082</th>\n",
       "      <td>purchase</td>\n",
       "      <td>500058</td>\n",
       "      <td>2144415923107266682</td>\n",
       "      <td>pantum</td>\n",
       "      <td>67.00</td>\n",
       "      <td>1515915625610973155</td>\n",
       "      <td>CxMKMQDRAN</td>\n",
       "      <td>2021</td>\n",
       "      <td>February</td>\n",
       "      <td>Sunday</td>\n",
       "      <td>23</td>\n",
       "      <td>computers</td>\n",
       "      <td>printer</td>\n",
       "    </tr>\n",
       "    <tr>\n",
       "      <th>885090</th>\n",
       "      <td>purchase</td>\n",
       "      <td>500058</td>\n",
       "      <td>2144415923107266682</td>\n",
       "      <td>pantum</td>\n",
       "      <td>67.00</td>\n",
       "      <td>1515915625610973155</td>\n",
       "      <td>CxMKMQDRAN</td>\n",
       "      <td>2021</td>\n",
       "      <td>February</td>\n",
       "      <td>Sunday</td>\n",
       "      <td>23</td>\n",
       "      <td>computers</td>\n",
       "      <td>printer</td>\n",
       "    </tr>\n",
       "    <tr>\n",
       "      <th>885115</th>\n",
       "      <td>view</td>\n",
       "      <td>456167</td>\n",
       "      <td>2144415939205005866</td>\n",
       "      <td>NaN</td>\n",
       "      <td>66.08</td>\n",
       "      <td>1515915625606625929</td>\n",
       "      <td>o6Am83NAYk</td>\n",
       "      <td>2021</td>\n",
       "      <td>February</td>\n",
       "      <td>Sunday</td>\n",
       "      <td>23</td>\n",
       "      <td>auto</td>\n",
       "      <td>window</td>\n",
       "    </tr>\n",
       "    <tr>\n",
       "      <th>885120</th>\n",
       "      <td>view</td>\n",
       "      <td>622796</td>\n",
       "      <td>2144415922738167921</td>\n",
       "      <td>asus</td>\n",
       "      <td>147.38</td>\n",
       "      <td>1515915625572947504</td>\n",
       "      <td>LJ4H6CRcME</td>\n",
       "      <td>2021</td>\n",
       "      <td>February</td>\n",
       "      <td>Sunday</td>\n",
       "      <td>23</td>\n",
       "      <td>computers</td>\n",
       "      <td>cdrw</td>\n",
       "    </tr>\n",
       "    <tr>\n",
       "      <th>885121</th>\n",
       "      <td>view</td>\n",
       "      <td>622796</td>\n",
       "      <td>2144415922738167921</td>\n",
       "      <td>asus</td>\n",
       "      <td>147.38</td>\n",
       "      <td>1515915625572947504</td>\n",
       "      <td>SqlXaC3Wrw</td>\n",
       "      <td>2021</td>\n",
       "      <td>February</td>\n",
       "      <td>Sunday</td>\n",
       "      <td>23</td>\n",
       "      <td>computers</td>\n",
       "      <td>cdrw</td>\n",
       "    </tr>\n",
       "  </tbody>\n",
       "</table>\n",
       "<p>120279 rows × 13 columns</p>\n",
       "</div>"
      ],
      "text/plain": [
       "       event_type  product_id          category_id      brand   price  \\\n",
       "11           view      811491  2144415926370435276     ritmix   33.32   \n",
       "25           view     1021484  2144415944976368325        NaN  202.98   \n",
       "47           view     3536864  2144415935732122060     sirius   47.14   \n",
       "49           view      261923  2144415922939494519  panasonic   37.75   \n",
       "51           view     3536864  2144415935732122060     sirius   47.14   \n",
       "...           ...         ...                  ...        ...     ...   \n",
       "885082   purchase      500058  2144415923107266682     pantum   67.00   \n",
       "885090   purchase      500058  2144415923107266682     pantum   67.00   \n",
       "885115       view      456167  2144415939205005866        NaN   66.08   \n",
       "885120       view      622796  2144415922738167921       asus  147.38   \n",
       "885121       view      622796  2144415922738167921       asus  147.38   \n",
       "\n",
       "                    user_id user_session  year      month      date  hour  \\\n",
       "11      1515915625356205647   aFLc6y9kn4  2020  September  Thursday    11   \n",
       "25      1515915625519389101   fO4BG6BTMi  2020  September  Thursday    12   \n",
       "47      1515915625519382571   Ve8a3LzDoI  2020  September  Thursday    12   \n",
       "49      1515915625519388006   17S2LXOG91  2020  September  Thursday    12   \n",
       "51      1515915625519382571   Ve8a3LzDoI  2020  September  Thursday    12   \n",
       "...                     ...          ...   ...        ...       ...   ...   \n",
       "885082  1515915625610973155   CxMKMQDRAN  2021   February    Sunday    23   \n",
       "885090  1515915625610973155   CxMKMQDRAN  2021   February    Sunday    23   \n",
       "885115  1515915625606625929   o6Am83NAYk  2021   February    Sunday    23   \n",
       "885120  1515915625572947504   LJ4H6CRcME  2021   February    Sunday    23   \n",
       "885121  1515915625572947504   SqlXaC3Wrw  2021   February    Sunday    23   \n",
       "\n",
       "         category product_name  \n",
       "11            nan          nan  \n",
       "25            nan          nan  \n",
       "47            nan          nan  \n",
       "49            nan          nan  \n",
       "51            nan          nan  \n",
       "...           ...          ...  \n",
       "885082  computers      printer  \n",
       "885090  computers      printer  \n",
       "885115       auto       window  \n",
       "885120  computers         cdrw  \n",
       "885121  computers         cdrw  \n",
       "\n",
       "[120279 rows x 13 columns]"
      ]
     },
     "execution_count": 7,
     "metadata": {},
     "output_type": "execute_result"
    }
   ],
   "source": [
    "# Check Duplicate Data\n",
    "# Selecting duplicate rows except first\n",
    "# occurrence based on all columns\n",
    "duplicate = df_copy[df_copy.duplicated()]\n",
    "\n",
    "print(\"Duplicate Rows :\")\n",
    "# Print the resultant Dataframe\n",
    "duplicate"
   ]
  },
  {
   "cell_type": "code",
   "execution_count": 8,
   "id": "d170d1bb-d492-4fc9-9474-9157d158d343",
   "metadata": {},
   "outputs": [],
   "source": [
    "# Drop dulicate data\n",
    "df = df.drop_duplicates()"
   ]
  },
  {
   "cell_type": "markdown",
   "id": "56623a5d-14cc-480b-bc4b-c108fdb6eb59",
   "metadata": {
    "tags": []
   },
   "source": [
    "## Check Missing value data and handling missing values"
   ]
  },
  {
   "cell_type": "markdown",
   "id": "478683b2-7465-450e-8dff-11c3db3ebbb3",
   "metadata": {},
   "source": [
    "**Types of missing data**\n",
    "\n",
    "|Type|Definition|\n",
    "|---|---\n",
    "|Missing completely at random (MCAR)|Missing data are randomly distributed across the variable and unrelated to other variables.|\n",
    "|Missing at random (MAR)|Missing data are not randomly distributed but they are accounted for by other observed variables.|\n",
    "|Missing not at random (MNAR)|Missing data systematically differ from the observed values.|\n",
    "\n",
    "Type missing in this data **MAR**"
   ]
  },
  {
   "cell_type": "code",
   "execution_count": 114,
   "id": "ac6fd803-5c31-49e6-9566-bbd15c1dd351",
   "metadata": {},
   "outputs": [],
   "source": [
    "# Replace 'unknown', `999` , and `nonexistent` to nan\n",
    "df_copy.replace('nan', np.nan, inplace=True)"
   ]
  },
  {
   "cell_type": "code",
   "execution_count": 10,
   "id": "923b3683-9ff1-490a-a763-09603cbc88d1",
   "metadata": {},
   "outputs": [
    {
     "data": {
      "text/plain": [
       "category        26.6875\n",
       "product_name    26.6875\n",
       "brand           23.9924\n",
       "user_session     0.0186\n",
       "event_type       0.0000\n",
       "dtype: float64"
      ]
     },
     "execution_count": 10,
     "metadata": {},
     "output_type": "execute_result"
    }
   ],
   "source": [
    "# Show percentage missing values\n",
    "(df_copy.isnull().sum() / len(df_copy) * 100).sort_values(ascending=False).head()"
   ]
  },
  {
   "cell_type": "code",
   "execution_count": 11,
   "id": "d641d9e1-6a90-4460-b923-53c528eddd9a",
   "metadata": {},
   "outputs": [],
   "source": [
    "# Drop missing value\n",
    "df_copy.dropna(axis=0, inplace=True)"
   ]
  },
  {
   "cell_type": "code",
   "execution_count": 12,
   "id": "d81a7dc5-5d00-49ef-ab86-1cc62f3c9ed7",
   "metadata": {},
   "outputs": [
    {
     "name": "stdout",
     "output_type": "stream",
     "text": [
      "<class 'pandas.core.frame.DataFrame'>\n",
      "Int64Index: 516256 entries, 1 to 885128\n",
      "Data columns (total 13 columns):\n",
      " #   Column        Non-Null Count   Dtype  \n",
      "---  ------        --------------   -----  \n",
      " 0   event_type    516256 non-null  object \n",
      " 1   product_id    516256 non-null  int64  \n",
      " 2   category_id   516256 non-null  int64  \n",
      " 3   brand         516256 non-null  object \n",
      " 4   price         516256 non-null  float64\n",
      " 5   user_id       516256 non-null  int64  \n",
      " 6   user_session  516256 non-null  object \n",
      " 7   year          516256 non-null  int64  \n",
      " 8   month         516256 non-null  object \n",
      " 9   date          516256 non-null  object \n",
      " 10  hour          516256 non-null  int64  \n",
      " 11  category      516256 non-null  object \n",
      " 12  product_name  516256 non-null  object \n",
      "dtypes: float64(1), int64(5), object(7)\n",
      "memory usage: 55.1+ MB\n"
     ]
    }
   ],
   "source": [
    "# show data\n",
    "df_copy.info()"
   ]
  },
  {
   "cell_type": "markdown",
   "id": "c0575b5d-7502-4151-841c-86a4c078fefe",
   "metadata": {
    "tags": []
   },
   "source": [
    "# Show information dataset (dataset after cleaning)"
   ]
  },
  {
   "cell_type": "code",
   "execution_count": 13,
   "id": "08a42521-38c9-4d5c-8cea-28fece1f39be",
   "metadata": {},
   "outputs": [
    {
     "name": "stdout",
     "output_type": "stream",
     "text": [
      "Total row in dataset : 516256\n",
      "Total column in dataset : 13\n"
     ]
    },
    {
     "data": {
      "text/html": [
       "<div>\n",
       "<style scoped>\n",
       "    .dataframe tbody tr th:only-of-type {\n",
       "        vertical-align: middle;\n",
       "    }\n",
       "\n",
       "    .dataframe tbody tr th {\n",
       "        vertical-align: top;\n",
       "    }\n",
       "\n",
       "    .dataframe thead th {\n",
       "        text-align: right;\n",
       "    }\n",
       "</style>\n",
       "<table border=\"1\" class=\"dataframe\">\n",
       "  <thead>\n",
       "    <tr style=\"text-align: right;\">\n",
       "      <th></th>\n",
       "      <th>event_type</th>\n",
       "      <th>product_id</th>\n",
       "      <th>category_id</th>\n",
       "      <th>brand</th>\n",
       "      <th>price</th>\n",
       "      <th>user_id</th>\n",
       "      <th>user_session</th>\n",
       "      <th>year</th>\n",
       "      <th>month</th>\n",
       "      <th>date</th>\n",
       "      <th>hour</th>\n",
       "      <th>category</th>\n",
       "      <th>product_name</th>\n",
       "    </tr>\n",
       "  </thead>\n",
       "  <tbody>\n",
       "    <tr>\n",
       "      <th>497808</th>\n",
       "      <td>view</td>\n",
       "      <td>4051697</td>\n",
       "      <td>2144415924021624977</td>\n",
       "      <td>samsung</td>\n",
       "      <td>124.75</td>\n",
       "      <td>1515915625568185265</td>\n",
       "      <td>eeSgNnRtW2</td>\n",
       "      <td>2020</td>\n",
       "      <td>December</td>\n",
       "      <td>Thursday</td>\n",
       "      <td>18</td>\n",
       "      <td>electronics</td>\n",
       "      <td>tablet</td>\n",
       "    </tr>\n",
       "    <tr>\n",
       "      <th>101462</th>\n",
       "      <td>view</td>\n",
       "      <td>1029671</td>\n",
       "      <td>2144415927611949295</td>\n",
       "      <td>aura</td>\n",
       "      <td>10.00</td>\n",
       "      <td>1515915625526906350</td>\n",
       "      <td>qKosuufqs8</td>\n",
       "      <td>2020</td>\n",
       "      <td>October</td>\n",
       "      <td>Friday</td>\n",
       "      <td>21</td>\n",
       "      <td>electronics</td>\n",
       "      <td>acoustic</td>\n",
       "    </tr>\n",
       "    <tr>\n",
       "      <th>768518</th>\n",
       "      <td>cart</td>\n",
       "      <td>4176355</td>\n",
       "      <td>2144415922427789416</td>\n",
       "      <td>asus</td>\n",
       "      <td>264.40</td>\n",
       "      <td>1515915625521154128</td>\n",
       "      <td>MYGBTmTbTw</td>\n",
       "      <td>2021</td>\n",
       "      <td>February</td>\n",
       "      <td>Monday</td>\n",
       "      <td>21</td>\n",
       "      <td>computers</td>\n",
       "      <td>videocards</td>\n",
       "    </tr>\n",
       "    <tr>\n",
       "      <th>372440</th>\n",
       "      <td>view</td>\n",
       "      <td>3766349</td>\n",
       "      <td>2144415945622291159</td>\n",
       "      <td>bbk</td>\n",
       "      <td>71.86</td>\n",
       "      <td>1515915625546327079</td>\n",
       "      <td>nIRwJ1n6mM</td>\n",
       "      <td>2020</td>\n",
       "      <td>November</td>\n",
       "      <td>Monday</td>\n",
       "      <td>0</td>\n",
       "      <td>appliances</td>\n",
       "      <td>grill</td>\n",
       "    </tr>\n",
       "    <tr>\n",
       "      <th>467346</th>\n",
       "      <td>view</td>\n",
       "      <td>3828304</td>\n",
       "      <td>2144415922872385653</td>\n",
       "      <td>digma</td>\n",
       "      <td>73.83</td>\n",
       "      <td>1515915625565262925</td>\n",
       "      <td>IMqpecuRHk</td>\n",
       "      <td>2020</td>\n",
       "      <td>December</td>\n",
       "      <td>Saturday</td>\n",
       "      <td>11</td>\n",
       "      <td>electronics</td>\n",
       "      <td>tablet</td>\n",
       "    </tr>\n",
       "  </tbody>\n",
       "</table>\n",
       "</div>"
      ],
      "text/plain": [
       "       event_type  product_id          category_id    brand   price  \\\n",
       "497808       view     4051697  2144415924021624977  samsung  124.75   \n",
       "101462       view     1029671  2144415927611949295     aura   10.00   \n",
       "768518       cart     4176355  2144415922427789416     asus  264.40   \n",
       "372440       view     3766349  2144415945622291159      bbk   71.86   \n",
       "467346       view     3828304  2144415922872385653    digma   73.83   \n",
       "\n",
       "                    user_id user_session  year     month      date  hour  \\\n",
       "497808  1515915625568185265   eeSgNnRtW2  2020  December  Thursday    18   \n",
       "101462  1515915625526906350   qKosuufqs8  2020   October    Friday    21   \n",
       "768518  1515915625521154128   MYGBTmTbTw  2021  February    Monday    21   \n",
       "372440  1515915625546327079   nIRwJ1n6mM  2020  November    Monday     0   \n",
       "467346  1515915625565262925   IMqpecuRHk  2020  December  Saturday    11   \n",
       "\n",
       "           category product_name  \n",
       "497808  electronics       tablet  \n",
       "101462  electronics     acoustic  \n",
       "768518    computers   videocards  \n",
       "372440   appliances        grill  \n",
       "467346  electronics       tablet  "
      ]
     },
     "execution_count": 13,
     "metadata": {},
     "output_type": "execute_result"
    }
   ],
   "source": [
    "df_ori = df.copy() # Copy  data original\n",
    "df = df_copy.copy() # Copy data after clean\n",
    "print(f\"Total row in dataset : {df.shape[0]}\")\n",
    "print(f\"Total column in dataset : {df.shape[1]}\")\n",
    "df.sample(5, random_state=0) # show 5 data randomly"
   ]
  },
  {
   "cell_type": "code",
   "execution_count": 14,
   "id": "a17a0f13-2df4-4c57-9f1e-b39c112b4b36",
   "metadata": {},
   "outputs": [
    {
     "name": "stdout",
     "output_type": "stream",
     "text": [
      "<class 'pandas.core.frame.DataFrame'>\n",
      "Int64Index: 516256 entries, 1 to 885128\n",
      "Data columns (total 13 columns):\n",
      " #   Column        Non-Null Count   Dtype  \n",
      "---  ------        --------------   -----  \n",
      " 0   event_type    516256 non-null  object \n",
      " 1   product_id    516256 non-null  int64  \n",
      " 2   category_id   516256 non-null  int64  \n",
      " 3   brand         516256 non-null  object \n",
      " 4   price         516256 non-null  float64\n",
      " 5   user_id       516256 non-null  int64  \n",
      " 6   user_session  516256 non-null  object \n",
      " 7   year          516256 non-null  int64  \n",
      " 8   month         516256 non-null  object \n",
      " 9   date          516256 non-null  object \n",
      " 10  hour          516256 non-null  int64  \n",
      " 11  category      516256 non-null  object \n",
      " 12  product_name  516256 non-null  object \n",
      "dtypes: float64(1), int64(5), object(7)\n",
      "memory usage: 55.1+ MB\n"
     ]
    }
   ],
   "source": [
    "# Show information about dataset\n",
    "df.info()"
   ]
  },
  {
   "cell_type": "markdown",
   "id": "c299ca48-ffa6-49db-9d5e-05595added63",
   "metadata": {
    "tags": []
   },
   "source": [
    "# Next, We start with EDA(Exploratory Data Analysis)\n",
    "\n",
    "<img src=\"https://media.giphy.com/media/HUplkVCPY7jTW/giphy.gif\">\n",
    "\n",
    "## First Question should be why do we need this ??\n",
    "- How is the data distribution?\n",
    "- What types of product categories are most viewed in events? Of course, it will greatly affect the results of purchases made by customers or users who visit the event.\n",
    "- Seeing in which month the most customers or visitors made purchases?\n",
    "- See what days of the week the most customers or visitors make purchases?"
   ]
  },
  {
   "cell_type": "markdown",
   "id": "96b1fffb-92bd-425f-9b19-98c394ef0c44",
   "metadata": {},
   "source": [
    "## **Show distibution of event type** "
   ]
  },
  {
   "cell_type": "code",
   "execution_count": 15,
   "id": "3fe5307a-d15d-4e7b-8539-9e8f788c3814",
   "metadata": {
    "tags": []
   },
   "outputs": [
    {
     "data": {
      "image/png": "[encoded data removed]",
      "text/plain": [
       "<Figure size 1080x432 with 2 Axes>"
      ]
     },
     "metadata": {
      "needs_background": "light"
     },
     "output_type": "display_data"
    }
   ],
   "source": [
    "# membuat figure\n",
    "plt.figure(figsize=(15,6))\n",
    "\n",
    "# plot countplot\n",
    "plt.subplot(1,2,1)\n",
    "p1 = sns.countplot(data=df, x='event_type')\n",
    "plt.title(\"Distribution of Event Type\", fontsize='16')\n",
    "for p in p1.patches:\n",
    "    p1.annotate(f'{p.get_height()}', (p.get_x() + p.get_width()/2., p.get_height()), ha = 'center', va = 'center', xytext = (0, 10), textcoords = 'offset points')\n",
    "\n",
    "# plot pie chart\n",
    "plt.subplot(1,2,2)\n",
    "plt.pie(df['event_type'].value_counts(), labels=list(df['event_type'].unique()), autopct='%.2f%%')\n",
    "plt.title(\"Proportion of Event Type\", fontsize='16')\n",
    "plt.legend()\n",
    "plt.tight_layout()\n",
    "plt.show()"
   ]
  },
  {
   "cell_type": "markdown",
   "id": "eb5926e5-4dec-4fab-80cb-18e4b3ad5821",
   "metadata": {},
   "source": [
    "From the results of the pie chart information above, we can conclude that customers are more dominant in viewing products than making purchases. And we can also see that those who cart do not make conversions in terms of purchases. It can also be seen that the percentage figure obtained from this data shows that the type of customer only looks around at 88%, while the customer or people who come to make a purchase are only 4%."
   ]
  },
  {
   "cell_type": "markdown",
   "id": "a44f8840-6b07-48fa-a5b3-b9f9d4a225b6",
   "metadata": {
    "tags": []
   },
   "source": [
    "## Show Rank top category and product by view"
   ]
  },
  {
   "cell_type": "code",
   "execution_count": 16,
   "id": "12bb9b07-6871-4b39-95df-dd98302ea7b7",
   "metadata": {},
   "outputs": [
    {
     "data": {
      "image/png": "[encoded data removed]",
      "text/plain": [
       "<Figure size 1080x432 with 2 Axes>"
      ]
     },
     "metadata": {
      "needs_background": "light"
     },
     "output_type": "display_data"
    }
   ],
   "source": [
    "# melakukan filter\n",
    "df_view_type = df[df['event_type'] == 'view']\n",
    "\n",
    "plt.figure(figsize = (15, 6))\n",
    "plt.subplot(1,2,1)\n",
    "ax = sns.countplot(\n",
    "    x = df_view_type[\"category\"],\n",
    "    order = df_view_type[\"category\"].value_counts().head(7).sort_values(ascending = False).index)\n",
    "ax.bar_label(ax.containers[0])\n",
    "plt.xticks(rotation = 45) # Rotates X-Axis Ticks by 45-degrees\n",
    "plt.title(\"Top 7 category on view\", fontsize = \"14\")\n",
    "\n",
    "plt.subplot(1,2,2)\n",
    "ax = sns.countplot(\n",
    "    x = df_view_type[\"product_name\"],\n",
    "    order = df_view_type[\"product_name\"].value_counts().head(7).sort_values(ascending = False).index)\n",
    "ax.bar_label(ax.containers[0])\n",
    "plt.xticks(rotation = 45) # Rotates X-Axis Ticks by 45-degrees\n",
    "plt.title(\"Top 7 product on view\", fontsize = \"14\")\n",
    "plt.tight_layout()\n",
    "plt.show()"
   ]
  },
  {
   "cell_type": "markdown",
   "id": "dc6431ce-3390-4ed8-a240-d1c9a4456588",
   "metadata": {},
   "source": [
    "From the visualization information above, regarding the types of customers who only look around, the most common categories are:\n",
    "- computer\n",
    "- electronics\n",
    "- appliances\n",
    "\n",
    "while the products that are often seen are:\n",
    "- videocards\n",
    "- telephone\n",
    "- printer"
   ]
  },
  {
   "cell_type": "markdown",
   "id": "ccea488b-19d0-447b-b6c5-ed90bd4d262b",
   "metadata": {},
   "source": [
    "## Show Rank top category and product by cart"
   ]
  },
  {
   "cell_type": "code",
   "execution_count": 17,
   "id": "46ab0b1a-ddcb-4655-b05a-b54853318816",
   "metadata": {},
   "outputs": [
    {
     "data": {
      "image/png": "[encoded data removed]",
      "text/plain": [
       "<Figure size 1080x432 with 2 Axes>"
      ]
     },
     "metadata": {
      "needs_background": "light"
     },
     "output_type": "display_data"
    }
   ],
   "source": [
    "# melakukan filter\n",
    "df_cart_type = df[df['event_type'] == 'cart']\n",
    "\n",
    "plt.figure(figsize = (15, 6))\n",
    "plt.subplot(1,2,1)\n",
    "ax = sns.countplot(\n",
    "    x = df_cart_type[\"category\"],\n",
    "    order = df_cart_type[\"category\"].value_counts().head(7).sort_values(ascending = False).index)\n",
    "ax.bar_label(ax.containers[0])\n",
    "plt.xticks(rotation = 45) # Rotates X-Axis Ticks by 45-degrees\n",
    "plt.title(\"Top 7 category by cart\", fontsize = \"14\")\n",
    "\n",
    "plt.subplot(1,2,2)\n",
    "ax = sns.countplot(\n",
    "    x = df_cart_type[\"product_name\"],\n",
    "    order = df_cart_type[\"product_name\"].value_counts().head(7).sort_values(ascending = False).index)\n",
    "ax.bar_label(ax.containers[0])\n",
    "plt.xticks(rotation = 45) # Rotates X-Axis Ticks by 45-degrees\n",
    "plt.title(\"Top 7 product by cart\", fontsize = \"14\")\n",
    "plt.tight_layout()\n",
    "plt.show()"
   ]
  },
  {
   "cell_type": "markdown",
   "id": "93ca42ef-afa7-4124-965c-200378732d82",
   "metadata": {},
   "source": [
    "From the visualization information above, regarding the types of customers who only cart(whatclist), the most common categories are:\n",
    "- computer\n",
    "- electronics\n",
    "- stationey \n",
    "a little difference with above\n",
    "\n",
    "while the products that are often seen are:\n",
    "- videocards\n",
    "- printer\n",
    "- telephone\n"
   ]
  },
  {
   "cell_type": "markdown",
   "id": "fd757c29-10d2-41c0-b799-cf83825a38f7",
   "metadata": {},
   "source": [
    "## Show Rank top category and product by purchase"
   ]
  },
  {
   "cell_type": "code",
   "execution_count": 18,
   "id": "a9463c2d-580f-418f-8c33-5f3586daf3e5",
   "metadata": {},
   "outputs": [
    {
     "data": {
      "image/png": "[encoded data removed]",
      "text/plain": [
       "<Figure size 1080x432 with 2 Axes>"
      ]
     },
     "metadata": {
      "needs_background": "light"
     },
     "output_type": "display_data"
    }
   ],
   "source": [
    "# melakukan filter\n",
    "df_purchase_type = df[df['event_type'] == 'purchase']\n",
    "\n",
    "plt.figure(figsize = (15, 6))\n",
    "plt.subplot(1,2,1)\n",
    "ax = sns.countplot(\n",
    "    x = df_purchase_type[\"category\"],\n",
    "    order = df_purchase_type[\"category\"].value_counts().head(7).sort_values(ascending = False).index)\n",
    "ax.bar_label(ax.containers[0])\n",
    "plt.xticks(rotation = 45) # Rotates X-Axis Ticks by 45-degrees\n",
    "plt.title(\"Top 7 category by purchase\", fontsize = \"14\")\n",
    "\n",
    "plt.subplot(1,2,2)\n",
    "ax = sns.countplot(\n",
    "    x = df_purchase_type[\"product_name\"],\n",
    "    order = df_purchase_type[\"product_name\"].value_counts().head(7).sort_values(ascending = False).index)\n",
    "ax.bar_label(ax.containers[0])\n",
    "plt.xticks(rotation = 45) # Rotates X-Axis Ticks by 45-degrees\n",
    "plt.title(\"Top 7 poduct by purchase\", fontsize = \"14\")\n",
    "plt.tight_layout()\n",
    "plt.show()"
   ]
  },
  {
   "cell_type": "markdown",
   "id": "86696862-4990-4eda-9a47-fc16a23d6e0f",
   "metadata": {},
   "source": [
    "From the visualization information above, regarding the types of customers who purchases, the most common categories are:\n",
    "- computer\n",
    "- electronics\n",
    "- stationey \n",
    "\n",
    "while the products that are often seen are:\n",
    "- videocards\n",
    "- printer\n",
    "- cartrige\n"
   ]
  },
  {
   "cell_type": "markdown",
   "id": "48ee3340-b1d0-4e04-ad34-efaef6b0bb18",
   "metadata": {},
   "source": [
    "## Showing distibution event type base on top category"
   ]
  },
  {
   "cell_type": "code",
   "execution_count": 19,
   "id": "3c24df0b-9269-4480-8bdd-84838ce78bf0",
   "metadata": {},
   "outputs": [
    {
     "data": {
      "image/png": "[encoded data removed]",
      "text/plain": [
       "<Figure size 1080x432 with 2 Axes>"
      ]
     },
     "metadata": {
      "needs_background": "light"
     },
     "output_type": "display_data"
    }
   ],
   "source": [
    "# Filtering based on top category\n",
    "data_comp = df[df['category'] == 'computers']\n",
    "\n",
    "# membuat figure\n",
    "plt.figure(figsize=(15,6))\n",
    "\n",
    "# plot countplot\n",
    "plt.subplot(1,2,1)\n",
    "p1 = sns.countplot(data=data_comp, x='event_type')\n",
    "plt.title(\"Distribution of Event Type Based on Computer Category\", fontsize='16')\n",
    "for p in p1.patches:\n",
    "    p1.annotate(f'{p.get_height()}', (p.get_x() + p.get_width()/2., p.get_height()), ha = 'center', va = 'center', xytext = (0, 10), textcoords = 'offset points')\n",
    "\n",
    "# plot pie chart\n",
    "plt.subplot(1,2,2)\n",
    "plt.pie(data_comp['event_type'].value_counts(), labels=list(data_comp['event_type'].unique()), autopct='%.2f%%')\n",
    "plt.title(\"Proportion of Event Type Based on Computer Category\", fontsize='16')\n",
    "plt.legend()\n",
    "plt.tight_layout()\n",
    "plt.show()"
   ]
  },
  {
   "cell_type": "markdown",
   "id": "a2ee2997-3259-40f4-9de1-72092fdce5e7",
   "metadata": {},
   "source": [
    "## Showing distibution event type base on top product"
   ]
  },
  {
   "cell_type": "code",
   "execution_count": 20,
   "id": "38e26224-cde0-47cc-bb4c-888b220aa1db",
   "metadata": {},
   "outputs": [
    {
     "data": {
      "image/png": "[encoded data removed]",
      "text/plain": [
       "<Figure size 1080x432 with 2 Axes>"
      ]
     },
     "metadata": {
      "needs_background": "light"
     },
     "output_type": "display_data"
    }
   ],
   "source": [
    "# Filtering based on top category\n",
    "data_comp = df[df['product_name'] == 'videocards']\n",
    "\n",
    "# membuat figure\n",
    "plt.figure(figsize=(15,6))\n",
    "\n",
    "# plot countplot\n",
    "plt.subplot(1,2,1)\n",
    "p1 = sns.countplot(data=data_comp, x='event_type')\n",
    "plt.title(\"Distribution of Event Type Based on Videocards Product\", fontsize='16')\n",
    "for p in p1.patches:\n",
    "    p1.annotate(f'{p.get_height()}', (p.get_x() + p.get_width()/2., p.get_height()), ha = 'center', va = 'center', xytext = (0, 10), textcoords = 'offset points')\n",
    "\n",
    "# plot pie chart\n",
    "plt.subplot(1,2,2)\n",
    "plt.pie(data_comp['event_type'].value_counts(), labels=list(data_comp['event_type'].unique()), autopct='%.2f%%')\n",
    "plt.title(\"Proportion of Event Type Based on Videocards Product\", fontsize='16')\n",
    "plt.legend()\n",
    "plt.tight_layout()\n",
    "plt.show()"
   ]
  },
  {
   "cell_type": "markdown",
   "id": "00fd3173-48f0-4a11-bced-7894f4f45a9c",
   "metadata": {},
   "source": [
    "## Show distribution costumer view and purchasing on month"
   ]
  },
  {
   "cell_type": "code",
   "execution_count": 21,
   "id": "48f539ac-8b51-417d-ab27-b33b90d000b8",
   "metadata": {},
   "outputs": [
    {
     "data": {
      "image/png": "[encoded data removed]",
      "text/plain": [
       "<Figure size 1080x432 with 2 Axes>"
      ]
     },
     "metadata": {
      "needs_background": "light"
     },
     "output_type": "display_data"
    }
   ],
   "source": [
    "# Add figure for plotting\n",
    "plt.figure(figsize = (15, 6))\n",
    "plt.subplot(1,2,1) # Subplot for plotting \n",
    "ax = sns.countplot(data=df_view_type,\n",
    "                  x='month')\n",
    "ax.bar_label(ax.containers[0])\n",
    "plt.title(\"Distribution event type view on month\")\n",
    "\n",
    "# Subplot for plotting\n",
    "plt.subplot(1,2,2)\n",
    "ax = sns.countplot(data=df_purchase_type,\n",
    "                  x='month')\n",
    "ax.bar_label(ax.containers[0])\n",
    "plt.title(\"Distribution event type purchase on month\")\n",
    "plt.tight_layout()\n",
    "plt.show()"
   ]
  },
  {
   "cell_type": "markdown",
   "id": "156c5cd0-18fa-4c2f-af59-ee8bf11ad28a",
   "metadata": {},
   "source": [
    "## Show distribution costumer view and purchasing on date"
   ]
  },
  {
   "cell_type": "code",
   "execution_count": 22,
   "id": "5209a563-aa9f-480b-8472-a401188bf6ce",
   "metadata": {},
   "outputs": [
    {
     "data": {
      "image/png": "[encoded data removed]",
      "text/plain": [
       "<Figure size 1080x432 with 2 Axes>"
      ]
     },
     "metadata": {
      "needs_background": "light"
     },
     "output_type": "display_data"
    }
   ],
   "source": [
    "# Add figure for plotting\n",
    "plt.figure(figsize = (15, 6))\n",
    "plt.subplot(1,2,1) # Subplot for plotting \n",
    "ax = sns.countplot(data=df_view_type,\n",
    "                  x='date')\n",
    "ax.bar_label(ax.containers[0])\n",
    "plt.title(\"Distribution event type view on date\")\n",
    "\n",
    "# Subplot for plotting\n",
    "plt.subplot(1,2,2)\n",
    "ax = sns.countplot(data=df_purchase_type,\n",
    "                  x='date')\n",
    "ax.bar_label(ax.containers[0])\n",
    "plt.title(\"Distribution event type purchase on date\")\n",
    "plt.tight_layout()\n",
    "plt.show()"
   ]
  },
  {
   "cell_type": "markdown",
   "id": "3955e2c1-114e-41a9-8d57-dede63929935",
   "metadata": {},
   "source": [
    "Then we get the information above, that customers are more dominant in hunting or purchasing at the end of the year.\n",
    "\n",
    "This is very closely related, because usually at the end of the year, many electronic goods are discounted. and it is also seen that their electronic or computer goods are the most in demand"
   ]
  },
  {
   "cell_type": "markdown",
   "id": "0f60d548-7362-4930-b2a4-d931db16d118",
   "metadata": {
    "tags": []
   },
   "source": [
    "# Data Preprocessing"
   ]
  },
  {
   "cell_type": "markdown",
   "id": "037976e6-968f-42a5-8d96-4c5d082084ab",
   "metadata": {},
   "source": [
    "## Check Missing Data\n"
   ]
  },
  {
   "cell_type": "code",
   "execution_count": 23,
   "id": "a82f7c2f-66e8-4662-9880-62ee07420f7d",
   "metadata": {},
   "outputs": [
    {
     "data": {
      "text/plain": [
       "event_type      0\n",
       "product_id      0\n",
       "category_id     0\n",
       "brand           0\n",
       "price           0\n",
       "user_id         0\n",
       "user_session    0\n",
       "year            0\n",
       "month           0\n",
       "date            0\n",
       "hour            0\n",
       "category        0\n",
       "product_name    0\n",
       "dtype: int64"
      ]
     },
     "execution_count": 23,
     "metadata": {},
     "output_type": "execute_result"
    }
   ],
   "source": [
    "# Check missing data\n",
    "df.isnull().sum()"
   ]
  },
  {
   "cell_type": "markdown",
   "id": "a0bd014c-ae63-428f-9cee-612aa4ac7ab5",
   "metadata": {
    "tags": []
   },
   "source": [
    "## Check Cardinality Data & Handling Cardinality data\n",
    "\n",
    "Almost all datasets now have categorical variables. Each categorical variable consists of unique values. A categorical feature is said to possess high cardinality when there are too many of these unique values. One-Hot Encoding becomes a big problem in such a case since we have a separate column for each unique value (indicating its presence or absence) in the categorical variable. This leads to two problems, one is obviously space consumption, but this is not as big a problem as the second problem, the curse of dimensionality.\n",
    "\n",
    "[source: towardsdatascience](https://towardsdatascience.com/dealing-with-features-that-have-high-cardinality-1c9212d7ff1b)"
   ]
  },
  {
   "cell_type": "markdown",
   "id": "95134861-3afb-48ec-98fc-5e0eb128c279",
   "metadata": {},
   "source": [
    "### Check Carfinality Data"
   ]
  },
  {
   "cell_type": "code",
   "execution_count": 24,
   "id": "74ddf32b-7480-4502-b469-50379b7c899c",
   "metadata": {},
   "outputs": [
    {
     "data": {
      "image/png": "[encoded data removed]",
      "text/plain": [
       "<Figure size 864x432 with 1 Axes>"
      ]
     },
     "metadata": {
      "needs_background": "light"
     },
     "output_type": "display_data"
    }
   ],
   "source": [
    "# Select data categorical\n",
    "df_object = df_copy.select_dtypes(include=['object'])\n",
    "df_object.nunique().plot.bar(figsize=(12,6))\n",
    "plt.ylabel(\"Number of unique categories\")\n",
    "plt.xlabel(\"Variables\")\n",
    "plt.title(\"Cardinality Check\")\n",
    "plt.show()"
   ]
  },
  {
   "cell_type": "markdown",
   "id": "acba53a3-53bb-45ad-a324-ce82141dfb25",
   "metadata": {},
   "source": [
    "### Drop Cardinality data \n",
    "\n",
    "Because, we can see data `user_session` is generic by sistem however we not use to create model. So i'm gona dropped this column"
   ]
  },
  {
   "cell_type": "code",
   "execution_count": 25,
   "id": "5d7e3296-9337-4148-82f5-0058f0f4ce77",
   "metadata": {},
   "outputs": [],
   "source": [
    "# We can dropped column 'user_session'\n",
    "df_copy.drop(['user_session'], axis=1, inplace=True)"
   ]
  },
  {
   "cell_type": "markdown",
   "id": "27f2ca11-0382-45fc-9436-fb12d1c80317",
   "metadata": {},
   "source": [
    "### Show and check cardinality again"
   ]
  },
  {
   "cell_type": "code",
   "execution_count": 26,
   "id": "8025449c-dc61-42bc-b33f-4dd735e5d60b",
   "metadata": {},
   "outputs": [
    {
     "data": {
      "image/png": "[encoded data removed]",
      "text/plain": [
       "<Figure size 864x432 with 1 Axes>"
      ]
     },
     "metadata": {
      "needs_background": "light"
     },
     "output_type": "display_data"
    }
   ],
   "source": [
    "# Select data categorical\n",
    "df_object = df_copy.select_dtypes(include=['object'])\n",
    "# Next we will check again\n",
    "df_object.nunique().plot.bar(figsize=(12,6))\n",
    "plt.ylabel(\"Number of unique categories\")\n",
    "plt.xlabel(\"Variables\")\n",
    "plt.title(\"Cardinality Check\")\n",
    "plt.show()"
   ]
  },
  {
   "cell_type": "markdown",
   "id": "916761db-ac3e-4dd0-82fe-cf54a4130d64",
   "metadata": {},
   "source": [
    "After we check again, we find 2 column high cardinality is `brand` and `product_name`. We can handle by value count top 15 "
   ]
  },
  {
   "cell_type": "code",
   "execution_count": 27,
   "id": "0d42cd84-0f26-485c-a041-391f692339b7",
   "metadata": {},
   "outputs": [],
   "source": [
    "# Change and keep top 15 brand name\n",
    "def modif_brand(x):\n",
    "    if x in ['gigabyte', 'asus', 'msi', 'palit', 'amd', 'samsung', 'canon', 'hp', 'sirius', 'sapphire', 'asrock', 'pioneer', 'epson', 'bbk', 'topon']:\n",
    "        return x\n",
    "    else:\n",
    "        return \"other\"\n",
    "    \n",
    "# Change and keep top 15 product name\n",
    "def modif_product(a):\n",
    "    if a in ['videocards', 'telephone', 'printer', 'cartrige', 'motherboard', 'acoustic', 'cpu', 'tv', 'notebook', 'player', 'tablet', 'vacuum', 'power_supply', 'cooler', 'headphone']:\n",
    "        return a\n",
    "    else:\n",
    "        return \"other\""
   ]
  },
  {
   "cell_type": "code",
   "execution_count": 28,
   "id": "792545ae-11ee-4431-ae2f-18ffcc5d658d",
   "metadata": {},
   "outputs": [],
   "source": [
    "# Next use apply function pandas for handling \n",
    "df_copy['brand'] = df_copy.brand.apply(modif_brand) # handling cardinality in data brand\n",
    "df_copy['product_name'] = df_copy.product_name.apply(modif_product) # handling cardinality in data product name"
   ]
  },
  {
   "cell_type": "code",
   "execution_count": 29,
   "id": "e82e5273-276e-4414-8a63-a07c6f56f685",
   "metadata": {},
   "outputs": [
    {
     "data": {
      "image/png": "[encoded data removed]",
      "text/plain": [
       "<Figure size 864x432 with 1 Axes>"
      ]
     },
     "metadata": {
      "needs_background": "light"
     },
     "output_type": "display_data"
    }
   ],
   "source": [
    "# Select data categorical\n",
    "df_object = df_copy.select_dtypes(include=['object'])\n",
    "# Next we will check again\n",
    "df_object.nunique().plot.bar(figsize=(12,6))\n",
    "plt.ylabel(\"Number of unique categories\")\n",
    "plt.xlabel(\"Variables\")\n",
    "plt.title(\"Cardinality Check\")\n",
    "plt.show()"
   ]
  },
  {
   "cell_type": "markdown",
   "id": "c8bb6da8-7432-41f8-a95a-a448344b06cd",
   "metadata": {},
   "source": [
    "## Train Test Split Data"
   ]
  },
  {
   "cell_type": "code",
   "execution_count": 30,
   "id": "8d53f786-a84f-4361-9dfc-e195a1ba5c09",
   "metadata": {},
   "outputs": [
    {
     "name": "stdout",
     "output_type": "stream",
     "text": [
      "---- Train - Set ----\n",
      "Dimensi dari X_train : (413004, 11)\n",
      "Dimensi dari y_train : (413004,)\n",
      "\n",
      "---- Test - Set ----\n",
      "Dimensi dari X_test : (103252, 11)\n",
      "Dimensi dari y_test : (103252,)\n"
     ]
    }
   ],
   "source": [
    "# define 'X' and 'y'\n",
    "X = df_copy.drop(['event_type'], axis=1)\n",
    "y = df_copy['event_type']\n",
    "\n",
    "# Splitting Dataset\n",
    "X_train, X_test, y_train, y_test = train_test_split(X,y, test_size=0.2, random_state=44, stratify=y)\n",
    "\n",
    "# Cek dimensi Train dan Test\n",
    "print('---- Train - Set ----')\n",
    "print('Dimensi dari X_train :', X_train.shape)\n",
    "print('Dimensi dari y_train :', y_train.shape)\n",
    "print('')\n",
    "print('---- Test - Set ----')\n",
    "print('Dimensi dari X_test :', X_test.shape)\n",
    "print('Dimensi dari y_test :', y_test.shape)"
   ]
  },
  {
   "cell_type": "code",
   "execution_count": 31,
   "id": "15dd1f9d-1c73-4d00-94ef-40eb6b69c58a",
   "metadata": {},
   "outputs": [],
   "source": [
    "# Drop Uncessery data\n",
    "X_train.drop(['category_id', 'product_id', 'user_id'], axis=1, inplace=True)\n",
    "X_test.drop(['category_id', 'product_id', 'user_id'], axis=1, inplace=True)"
   ]
  },
  {
   "cell_type": "markdown",
   "id": "e9711635-0621-43ea-92d2-6549e5a37a12",
   "metadata": {
    "tags": []
   },
   "source": [
    "### Split data numerical and categorical data\n"
   ]
  },
  {
   "cell_type": "code",
   "execution_count": 32,
   "id": "e6791e5e-9e82-4765-9aaa-45fc6f671310",
   "metadata": {},
   "outputs": [
    {
     "name": "stdout",
     "output_type": "stream",
     "text": [
      "Numerical Columns : ['price', 'year', 'hour']\n",
      "Categorical Columns : ['brand', 'month', 'date', 'category', 'product_name']\n"
     ]
    }
   ],
   "source": [
    "## Split data Kategorik and Numerical\n",
    "num_columns = X_train.select_dtypes(include=np.number).columns.tolist()\n",
    "cat_columns = X_train.select_dtypes(include=['object']).columns.tolist()\n",
    "print(\"Numerical Columns :\", num_columns)\n",
    "print(\"Categorical Columns :\", cat_columns)"
   ]
  },
  {
   "cell_type": "markdown",
   "id": "067d0525-4141-4097-9c43-2ffe0e7a7532",
   "metadata": {
    "tags": []
   },
   "source": [
    "## Encoding for categorical data"
   ]
  },
  {
   "cell_type": "code",
   "execution_count": 33,
   "id": "828018c2-7d20-4a63-a30b-277b6b317a2a",
   "metadata": {},
   "outputs": [],
   "source": [
    "# Inititate Encoder\n",
    "le = LabelEncoder()\n",
    "for col in cat_columns:\n",
    "    le.fit(X_train[col])\n",
    "    X_train[col] = le.transform(X_train[col])\n",
    "    X_test[col] = le.transform(X_test[col])\n",
    "    \n",
    "# encode for y_labels    \n",
    "y_train = y_train.replace({'view':0, 'cart':1, 'purchase':2})\n",
    "y_test = y_test.replace({'view':0, 'cart':1, 'purchase':2})"
   ]
  },
  {
   "cell_type": "markdown",
   "id": "0b95f8be-a2b1-429f-8636-9bdf1bbd6c5e",
   "metadata": {},
   "source": [
    "## Scaling for numercal data"
   ]
  },
  {
   "cell_type": "code",
   "execution_count": 34,
   "id": "1b8218f1-7de5-4988-88da-7d64a7816427",
   "metadata": {},
   "outputs": [],
   "source": [
    "# Initaiate Scaler\n",
    "scaler = StandardScaler()\n",
    "X_train[num_columns] = scaler.fit_transform(X_train[num_columns])\n",
    "X_test[num_columns] = scaler.transform(X_test[num_columns])"
   ]
  },
  {
   "cell_type": "markdown",
   "id": "bc36d498-68eb-4187-a2a7-444f073ab717",
   "metadata": {},
   "source": [
    "# Modeling"
   ]
  },
  {
   "cell_type": "markdown",
   "id": "fffb82ed-1680-4e10-bafd-47c7f478f60f",
   "metadata": {},
   "source": [
    "## 1. Define Model Logistic Regression (default params)"
   ]
  },
  {
   "cell_type": "code",
   "execution_count": 35,
   "id": "bf6a2eb7-7e17-4a87-a8a4-f6ddab6c9a52",
   "metadata": {},
   "outputs": [
    {
     "name": "stderr",
     "output_type": "stream",
     "text": [
      "C:\\Users\\User\\anaconda3\\lib\\site-packages\\sklearn\\linear_model\\_logistic.py:444: ConvergenceWarning: lbfgs failed to converge (status=1):\n",
      "STOP: TOTAL NO. of ITERATIONS REACHED LIMIT.\n",
      "\n",
      "Increase the number of iterations (max_iter) or scale the data as shown in:\n",
      "    https://scikit-learn.org/stable/modules/preprocessing.html\n",
      "Please also refer to the documentation for alternative solver options:\n",
      "    https://scikit-learn.org/stable/modules/linear_model.html#logistic-regression\n",
      "  n_iter_i = _check_optimize_result(\n"
     ]
    },
    {
     "data": {
      "text/html": [
       "<style>#sk-container-id-1 {color: black;background-color: white;}#sk-container-id-1 pre{padding: 0;}#sk-container-id-1 div.sk-toggleable {background-color: white;}#sk-container-id-1 label.sk-toggleable__label {cursor: pointer;display: block;width: 100%;margin-bottom: 0;padding: 0.3em;box-sizing: border-box;text-align: center;}#sk-container-id-1 label.sk-toggleable__label-arrow:before {content: \"▸\";float: left;margin-right: 0.25em;color: #696969;}#sk-container-id-1 label.sk-toggleable__label-arrow:hover:before {color: black;}#sk-container-id-1 div.sk-estimator:hover label.sk-toggleable__label-arrow:before {color: black;}#sk-container-id-1 div.sk-toggleable__content {max-height: 0;max-width: 0;overflow: hidden;text-align: left;background-color: #f0f8ff;}#sk-container-id-1 div.sk-toggleable__content pre {margin: 0.2em;color: black;border-radius: 0.25em;background-color: #f0f8ff;}#sk-container-id-1 input.sk-toggleable__control:checked~div.sk-toggleable__content {max-height: 200px;max-width: 100%;overflow: auto;}#sk-container-id-1 input.sk-toggleable__control:checked~label.sk-toggleable__label-arrow:before {content: \"▾\";}#sk-container-id-1 div.sk-estimator input.sk-toggleable__control:checked~label.sk-toggleable__label {background-color: #d4ebff;}#sk-container-id-1 div.sk-label input.sk-toggleable__control:checked~label.sk-toggleable__label {background-color: #d4ebff;}#sk-container-id-1 input.sk-hidden--visually {border: 0;clip: rect(1px 1px 1px 1px);clip: rect(1px, 1px, 1px, 1px);height: 1px;margin: -1px;overflow: hidden;padding: 0;position: absolute;width: 1px;}#sk-container-id-1 div.sk-estimator {font-family: monospace;background-color: #f0f8ff;border: 1px dotted black;border-radius: 0.25em;box-sizing: border-box;margin-bottom: 0.5em;}#sk-container-id-1 div.sk-estimator:hover {background-color: #d4ebff;}#sk-container-id-1 div.sk-parallel-item::after {content: \"\";width: 100%;border-bottom: 1px solid gray;flex-grow: 1;}#sk-container-id-1 div.sk-label:hover label.sk-toggleable__label {background-color: #d4ebff;}#sk-container-id-1 div.sk-serial::before {content: \"\";position: absolute;border-left: 1px solid gray;box-sizing: border-box;top: 0;bottom: 0;left: 50%;z-index: 0;}#sk-container-id-1 div.sk-serial {display: flex;flex-direction: column;align-items: center;background-color: white;padding-right: 0.2em;padding-left: 0.2em;position: relative;}#sk-container-id-1 div.sk-item {position: relative;z-index: 1;}#sk-container-id-1 div.sk-parallel {display: flex;align-items: stretch;justify-content: center;background-color: white;position: relative;}#sk-container-id-1 div.sk-item::before, #sk-container-id-1 div.sk-parallel-item::before {content: \"\";position: absolute;border-left: 1px solid gray;box-sizing: border-box;top: 0;bottom: 0;left: 50%;z-index: -1;}#sk-container-id-1 div.sk-parallel-item {display: flex;flex-direction: column;z-index: 1;position: relative;background-color: white;}#sk-container-id-1 div.sk-parallel-item:first-child::after {align-self: flex-end;width: 50%;}#sk-container-id-1 div.sk-parallel-item:last-child::after {align-self: flex-start;width: 50%;}#sk-container-id-1 div.sk-parallel-item:only-child::after {width: 0;}#sk-container-id-1 div.sk-dashed-wrapped {border: 1px dashed gray;margin: 0 0.4em 0.5em 0.4em;box-sizing: border-box;padding-bottom: 0.4em;background-color: white;}#sk-container-id-1 div.sk-label label {font-family: monospace;font-weight: bold;display: inline-block;line-height: 1.2em;}#sk-container-id-1 div.sk-label-container {text-align: center;}#sk-container-id-1 div.sk-container {/* jupyter's `normalize.less` sets `[hidden] { display: none; }` but bootstrap.min.css set `[hidden] { display: none !important; }` so we also need the `!important` here to be able to override the default hidden behavior on the sphinx rendered scikit-learn.org. See: https://github.com/scikit-learn/scikit-learn/issues/21755 */display: inline-block !important;position: relative;}#sk-container-id-1 div.sk-text-repr-fallback {display: none;}</style><div id=\"sk-container-id-1\" class=\"sk-top-container\"><div class=\"sk-text-repr-fallback\"><pre>LogisticRegression()</pre><b>In a Jupyter environment, please rerun this cell to show the HTML representation or trust the notebook. <br />On GitHub, the HTML representation is unable to render, please try loading this page with nbviewer.org.</b></div><div class=\"sk-container\" hidden><div class=\"sk-item\"><div class=\"sk-estimator sk-toggleable\"><input class=\"sk-toggleable__control sk-hidden--visually\" id=\"sk-estimator-id-1\" type=\"checkbox\" checked><label for=\"sk-estimator-id-1\" class=\"sk-toggleable__label sk-toggleable__label-arrow\">LogisticRegression</label><div class=\"sk-toggleable__content\"><pre>LogisticRegression()</pre></div></div></div></div></div>"
      ],
      "text/plain": [
       "LogisticRegression()"
      ]
     },
     "execution_count": 35,
     "metadata": {},
     "output_type": "execute_result"
    }
   ],
   "source": [
    "# Import module \n",
    "from sklearn.linear_model import LogisticRegression\n",
    "# Define Model \n",
    "clf_log = LogisticRegression()\n",
    "\n",
    "# Training Model Logistic Regression to data train\n",
    "clf_log.fit(X_train, y_train)\n"
   ]
  },
  {
   "cell_type": "markdown",
   "id": "37ccfe28-73f1-4ed6-80b9-2872c32162d9",
   "metadata": {
    "tags": []
   },
   "source": [
    "## 2. Define Model KNN (default params)"
   ]
  },
  {
   "cell_type": "code",
   "execution_count": 36,
   "id": "c13651c5-7067-4c54-a2d9-4a9c861ae474",
   "metadata": {},
   "outputs": [
    {
     "data": {
      "text/html": [
       "<style>#sk-container-id-2 {color: black;background-color: white;}#sk-container-id-2 pre{padding: 0;}#sk-container-id-2 div.sk-toggleable {background-color: white;}#sk-container-id-2 label.sk-toggleable__label {cursor: pointer;display: block;width: 100%;margin-bottom: 0;padding: 0.3em;box-sizing: border-box;text-align: center;}#sk-container-id-2 label.sk-toggleable__label-arrow:before {content: \"▸\";float: left;margin-right: 0.25em;color: #696969;}#sk-container-id-2 label.sk-toggleable__label-arrow:hover:before {color: black;}#sk-container-id-2 div.sk-estimator:hover label.sk-toggleable__label-arrow:before {color: black;}#sk-container-id-2 div.sk-toggleable__content {max-height: 0;max-width: 0;overflow: hidden;text-align: left;background-color: #f0f8ff;}#sk-container-id-2 div.sk-toggleable__content pre {margin: 0.2em;color: black;border-radius: 0.25em;background-color: #f0f8ff;}#sk-container-id-2 input.sk-toggleable__control:checked~div.sk-toggleable__content {max-height: 200px;max-width: 100%;overflow: auto;}#sk-container-id-2 input.sk-toggleable__control:checked~label.sk-toggleable__label-arrow:before {content: \"▾\";}#sk-container-id-2 div.sk-estimator input.sk-toggleable__control:checked~label.sk-toggleable__label {background-color: #d4ebff;}#sk-container-id-2 div.sk-label input.sk-toggleable__control:checked~label.sk-toggleable__label {background-color: #d4ebff;}#sk-container-id-2 input.sk-hidden--visually {border: 0;clip: rect(1px 1px 1px 1px);clip: rect(1px, 1px, 1px, 1px);height: 1px;margin: -1px;overflow: hidden;padding: 0;position: absolute;width: 1px;}#sk-container-id-2 div.sk-estimator {font-family: monospace;background-color: #f0f8ff;border: 1px dotted black;border-radius: 0.25em;box-sizing: border-box;margin-bottom: 0.5em;}#sk-container-id-2 div.sk-estimator:hover {background-color: #d4ebff;}#sk-container-id-2 div.sk-parallel-item::after {content: \"\";width: 100%;border-bottom: 1px solid gray;flex-grow: 1;}#sk-container-id-2 div.sk-label:hover label.sk-toggleable__label {background-color: #d4ebff;}#sk-container-id-2 div.sk-serial::before {content: \"\";position: absolute;border-left: 1px solid gray;box-sizing: border-box;top: 0;bottom: 0;left: 50%;z-index: 0;}#sk-container-id-2 div.sk-serial {display: flex;flex-direction: column;align-items: center;background-color: white;padding-right: 0.2em;padding-left: 0.2em;position: relative;}#sk-container-id-2 div.sk-item {position: relative;z-index: 1;}#sk-container-id-2 div.sk-parallel {display: flex;align-items: stretch;justify-content: center;background-color: white;position: relative;}#sk-container-id-2 div.sk-item::before, #sk-container-id-2 div.sk-parallel-item::before {content: \"\";position: absolute;border-left: 1px solid gray;box-sizing: border-box;top: 0;bottom: 0;left: 50%;z-index: -1;}#sk-container-id-2 div.sk-parallel-item {display: flex;flex-direction: column;z-index: 1;position: relative;background-color: white;}#sk-container-id-2 div.sk-parallel-item:first-child::after {align-self: flex-end;width: 50%;}#sk-container-id-2 div.sk-parallel-item:last-child::after {align-self: flex-start;width: 50%;}#sk-container-id-2 div.sk-parallel-item:only-child::after {width: 0;}#sk-container-id-2 div.sk-dashed-wrapped {border: 1px dashed gray;margin: 0 0.4em 0.5em 0.4em;box-sizing: border-box;padding-bottom: 0.4em;background-color: white;}#sk-container-id-2 div.sk-label label {font-family: monospace;font-weight: bold;display: inline-block;line-height: 1.2em;}#sk-container-id-2 div.sk-label-container {text-align: center;}#sk-container-id-2 div.sk-container {/* jupyter's `normalize.less` sets `[hidden] { display: none; }` but bootstrap.min.css set `[hidden] { display: none !important; }` so we also need the `!important` here to be able to override the default hidden behavior on the sphinx rendered scikit-learn.org. See: https://github.com/scikit-learn/scikit-learn/issues/21755 */display: inline-block !important;position: relative;}#sk-container-id-2 div.sk-text-repr-fallback {display: none;}</style><div id=\"sk-container-id-2\" class=\"sk-top-container\"><div class=\"sk-text-repr-fallback\"><pre>KNeighborsClassifier()</pre><b>In a Jupyter environment, please rerun this cell to show the HTML representation or trust the notebook. <br />On GitHub, the HTML representation is unable to render, please try loading this page with nbviewer.org.</b></div><div class=\"sk-container\" hidden><div class=\"sk-item\"><div class=\"sk-estimator sk-toggleable\"><input class=\"sk-toggleable__control sk-hidden--visually\" id=\"sk-estimator-id-2\" type=\"checkbox\" checked><label for=\"sk-estimator-id-2\" class=\"sk-toggleable__label sk-toggleable__label-arrow\">KNeighborsClassifier</label><div class=\"sk-toggleable__content\"><pre>KNeighborsClassifier()</pre></div></div></div></div></div>"
      ],
      "text/plain": [
       "KNeighborsClassifier()"
      ]
     },
     "execution_count": 36,
     "metadata": {},
     "output_type": "execute_result"
    }
   ],
   "source": [
    "# Import Model\n",
    "from sklearn.neighbors import KNeighborsClassifier\n",
    "\n",
    "# Define Model\n",
    "clf_knn = KNeighborsClassifier()\n",
    "\n",
    "# Training Model KneighboarsClassifier\n",
    "clf_knn.fit(X_train, y_train)"
   ]
  },
  {
   "cell_type": "markdown",
   "id": "153b8f0e-d6c7-40e4-b17a-b3ac2cdb948c",
   "metadata": {},
   "source": [
    "## 3. Define Model Decision Tree (default params)"
   ]
  },
  {
   "cell_type": "code",
   "execution_count": 37,
   "id": "0363acf4-1342-4fe9-a463-f0d8f3233a7a",
   "metadata": {},
   "outputs": [
    {
     "data": {
      "text/html": [
       "<style>#sk-container-id-3 {color: black;background-color: white;}#sk-container-id-3 pre{padding: 0;}#sk-container-id-3 div.sk-toggleable {background-color: white;}#sk-container-id-3 label.sk-toggleable__label {cursor: pointer;display: block;width: 100%;margin-bottom: 0;padding: 0.3em;box-sizing: border-box;text-align: center;}#sk-container-id-3 label.sk-toggleable__label-arrow:before {content: \"▸\";float: left;margin-right: 0.25em;color: #696969;}#sk-container-id-3 label.sk-toggleable__label-arrow:hover:before {color: black;}#sk-container-id-3 div.sk-estimator:hover label.sk-toggleable__label-arrow:before {color: black;}#sk-container-id-3 div.sk-toggleable__content {max-height: 0;max-width: 0;overflow: hidden;text-align: left;background-color: #f0f8ff;}#sk-container-id-3 div.sk-toggleable__content pre {margin: 0.2em;color: black;border-radius: 0.25em;background-color: #f0f8ff;}#sk-container-id-3 input.sk-toggleable__control:checked~div.sk-toggleable__content {max-height: 200px;max-width: 100%;overflow: auto;}#sk-container-id-3 input.sk-toggleable__control:checked~label.sk-toggleable__label-arrow:before {content: \"▾\";}#sk-container-id-3 div.sk-estimator input.sk-toggleable__control:checked~label.sk-toggleable__label {background-color: #d4ebff;}#sk-container-id-3 div.sk-label input.sk-toggleable__control:checked~label.sk-toggleable__label {background-color: #d4ebff;}#sk-container-id-3 input.sk-hidden--visually {border: 0;clip: rect(1px 1px 1px 1px);clip: rect(1px, 1px, 1px, 1px);height: 1px;margin: -1px;overflow: hidden;padding: 0;position: absolute;width: 1px;}#sk-container-id-3 div.sk-estimator {font-family: monospace;background-color: #f0f8ff;border: 1px dotted black;border-radius: 0.25em;box-sizing: border-box;margin-bottom: 0.5em;}#sk-container-id-3 div.sk-estimator:hover {background-color: #d4ebff;}#sk-container-id-3 div.sk-parallel-item::after {content: \"\";width: 100%;border-bottom: 1px solid gray;flex-grow: 1;}#sk-container-id-3 div.sk-label:hover label.sk-toggleable__label {background-color: #d4ebff;}#sk-container-id-3 div.sk-serial::before {content: \"\";position: absolute;border-left: 1px solid gray;box-sizing: border-box;top: 0;bottom: 0;left: 50%;z-index: 0;}#sk-container-id-3 div.sk-serial {display: flex;flex-direction: column;align-items: center;background-color: white;padding-right: 0.2em;padding-left: 0.2em;position: relative;}#sk-container-id-3 div.sk-item {position: relative;z-index: 1;}#sk-container-id-3 div.sk-parallel {display: flex;align-items: stretch;justify-content: center;background-color: white;position: relative;}#sk-container-id-3 div.sk-item::before, #sk-container-id-3 div.sk-parallel-item::before {content: \"\";position: absolute;border-left: 1px solid gray;box-sizing: border-box;top: 0;bottom: 0;left: 50%;z-index: -1;}#sk-container-id-3 div.sk-parallel-item {display: flex;flex-direction: column;z-index: 1;position: relative;background-color: white;}#sk-container-id-3 div.sk-parallel-item:first-child::after {align-self: flex-end;width: 50%;}#sk-container-id-3 div.sk-parallel-item:last-child::after {align-self: flex-start;width: 50%;}#sk-container-id-3 div.sk-parallel-item:only-child::after {width: 0;}#sk-container-id-3 div.sk-dashed-wrapped {border: 1px dashed gray;margin: 0 0.4em 0.5em 0.4em;box-sizing: border-box;padding-bottom: 0.4em;background-color: white;}#sk-container-id-3 div.sk-label label {font-family: monospace;font-weight: bold;display: inline-block;line-height: 1.2em;}#sk-container-id-3 div.sk-label-container {text-align: center;}#sk-container-id-3 div.sk-container {/* jupyter's `normalize.less` sets `[hidden] { display: none; }` but bootstrap.min.css set `[hidden] { display: none !important; }` so we also need the `!important` here to be able to override the default hidden behavior on the sphinx rendered scikit-learn.org. See: https://github.com/scikit-learn/scikit-learn/issues/21755 */display: inline-block !important;position: relative;}#sk-container-id-3 div.sk-text-repr-fallback {display: none;}</style><div id=\"sk-container-id-3\" class=\"sk-top-container\"><div class=\"sk-text-repr-fallback\"><pre>DecisionTreeClassifier()</pre><b>In a Jupyter environment, please rerun this cell to show the HTML representation or trust the notebook. <br />On GitHub, the HTML representation is unable to render, please try loading this page with nbviewer.org.</b></div><div class=\"sk-container\" hidden><div class=\"sk-item\"><div class=\"sk-estimator sk-toggleable\"><input class=\"sk-toggleable__control sk-hidden--visually\" id=\"sk-estimator-id-3\" type=\"checkbox\" checked><label for=\"sk-estimator-id-3\" class=\"sk-toggleable__label sk-toggleable__label-arrow\">DecisionTreeClassifier</label><div class=\"sk-toggleable__content\"><pre>DecisionTreeClassifier()</pre></div></div></div></div></div>"
      ],
      "text/plain": [
       "DecisionTreeClassifier()"
      ]
     },
     "execution_count": 37,
     "metadata": {},
     "output_type": "execute_result"
    }
   ],
   "source": [
    "# Import Model from sklearn\n",
    "from sklearn.tree import DecisionTreeClassifier\n",
    "\n",
    "# Define Model\n",
    "clf_dc = DecisionTreeClassifier()\n",
    "\n",
    "# Training model DecisionTree\n",
    "clf_dc.fit(X_train, y_train)"
   ]
  },
  {
   "cell_type": "markdown",
   "id": "49363148-52d1-4e12-a39f-d5994b7c7035",
   "metadata": {},
   "source": [
    "## 4. Define Model Random Forest (default params)"
   ]
  },
  {
   "cell_type": "code",
   "execution_count": 38,
   "id": "d14979ab-d3de-4629-a96e-e0a8898a3c56",
   "metadata": {},
   "outputs": [
    {
     "data": {
      "text/html": [
       "<style>#sk-container-id-4 {color: black;background-color: white;}#sk-container-id-4 pre{padding: 0;}#sk-container-id-4 div.sk-toggleable {background-color: white;}#sk-container-id-4 label.sk-toggleable__label {cursor: pointer;display: block;width: 100%;margin-bottom: 0;padding: 0.3em;box-sizing: border-box;text-align: center;}#sk-container-id-4 label.sk-toggleable__label-arrow:before {content: \"▸\";float: left;margin-right: 0.25em;color: #696969;}#sk-container-id-4 label.sk-toggleable__label-arrow:hover:before {color: black;}#sk-container-id-4 div.sk-estimator:hover label.sk-toggleable__label-arrow:before {color: black;}#sk-container-id-4 div.sk-toggleable__content {max-height: 0;max-width: 0;overflow: hidden;text-align: left;background-color: #f0f8ff;}#sk-container-id-4 div.sk-toggleable__content pre {margin: 0.2em;color: black;border-radius: 0.25em;background-color: #f0f8ff;}#sk-container-id-4 input.sk-toggleable__control:checked~div.sk-toggleable__content {max-height: 200px;max-width: 100%;overflow: auto;}#sk-container-id-4 input.sk-toggleable__control:checked~label.sk-toggleable__label-arrow:before {content: \"▾\";}#sk-container-id-4 div.sk-estimator input.sk-toggleable__control:checked~label.sk-toggleable__label {background-color: #d4ebff;}#sk-container-id-4 div.sk-label input.sk-toggleable__control:checked~label.sk-toggleable__label {background-color: #d4ebff;}#sk-container-id-4 input.sk-hidden--visually {border: 0;clip: rect(1px 1px 1px 1px);clip: rect(1px, 1px, 1px, 1px);height: 1px;margin: -1px;overflow: hidden;padding: 0;position: absolute;width: 1px;}#sk-container-id-4 div.sk-estimator {font-family: monospace;background-color: #f0f8ff;border: 1px dotted black;border-radius: 0.25em;box-sizing: border-box;margin-bottom: 0.5em;}#sk-container-id-4 div.sk-estimator:hover {background-color: #d4ebff;}#sk-container-id-4 div.sk-parallel-item::after {content: \"\";width: 100%;border-bottom: 1px solid gray;flex-grow: 1;}#sk-container-id-4 div.sk-label:hover label.sk-toggleable__label {background-color: #d4ebff;}#sk-container-id-4 div.sk-serial::before {content: \"\";position: absolute;border-left: 1px solid gray;box-sizing: border-box;top: 0;bottom: 0;left: 50%;z-index: 0;}#sk-container-id-4 div.sk-serial {display: flex;flex-direction: column;align-items: center;background-color: white;padding-right: 0.2em;padding-left: 0.2em;position: relative;}#sk-container-id-4 div.sk-item {position: relative;z-index: 1;}#sk-container-id-4 div.sk-parallel {display: flex;align-items: stretch;justify-content: center;background-color: white;position: relative;}#sk-container-id-4 div.sk-item::before, #sk-container-id-4 div.sk-parallel-item::before {content: \"\";position: absolute;border-left: 1px solid gray;box-sizing: border-box;top: 0;bottom: 0;left: 50%;z-index: -1;}#sk-container-id-4 div.sk-parallel-item {display: flex;flex-direction: column;z-index: 1;position: relative;background-color: white;}#sk-container-id-4 div.sk-parallel-item:first-child::after {align-self: flex-end;width: 50%;}#sk-container-id-4 div.sk-parallel-item:last-child::after {align-self: flex-start;width: 50%;}#sk-container-id-4 div.sk-parallel-item:only-child::after {width: 0;}#sk-container-id-4 div.sk-dashed-wrapped {border: 1px dashed gray;margin: 0 0.4em 0.5em 0.4em;box-sizing: border-box;padding-bottom: 0.4em;background-color: white;}#sk-container-id-4 div.sk-label label {font-family: monospace;font-weight: bold;display: inline-block;line-height: 1.2em;}#sk-container-id-4 div.sk-label-container {text-align: center;}#sk-container-id-4 div.sk-container {/* jupyter's `normalize.less` sets `[hidden] { display: none; }` but bootstrap.min.css set `[hidden] { display: none !important; }` so we also need the `!important` here to be able to override the default hidden behavior on the sphinx rendered scikit-learn.org. See: https://github.com/scikit-learn/scikit-learn/issues/21755 */display: inline-block !important;position: relative;}#sk-container-id-4 div.sk-text-repr-fallback {display: none;}</style><div id=\"sk-container-id-4\" class=\"sk-top-container\"><div class=\"sk-text-repr-fallback\"><pre>RandomForestClassifier()</pre><b>In a Jupyter environment, please rerun this cell to show the HTML representation or trust the notebook. <br />On GitHub, the HTML representation is unable to render, please try loading this page with nbviewer.org.</b></div><div class=\"sk-container\" hidden><div class=\"sk-item\"><div class=\"sk-estimator sk-toggleable\"><input class=\"sk-toggleable__control sk-hidden--visually\" id=\"sk-estimator-id-4\" type=\"checkbox\" checked><label for=\"sk-estimator-id-4\" class=\"sk-toggleable__label sk-toggleable__label-arrow\">RandomForestClassifier</label><div class=\"sk-toggleable__content\"><pre>RandomForestClassifier()</pre></div></div></div></div></div>"
      ],
      "text/plain": [
       "RandomForestClassifier()"
      ]
     },
     "execution_count": 38,
     "metadata": {},
     "output_type": "execute_result"
    }
   ],
   "source": [
    "# Import Model from sklearn\n",
    "from sklearn.ensemble import RandomForestClassifier\n",
    "\n",
    "# Define Model\n",
    "clf_rf = RandomForestClassifier()\n",
    "\n",
    "# Training Model RandomForestClassifier\n",
    "clf_rf.fit(X_train, y_train)"
   ]
  },
  {
   "cell_type": "markdown",
   "id": "4b76c054-705c-4a98-9d6e-57f36dbf0d54",
   "metadata": {},
   "source": [
    "# Evaluation Model\n",
    "\n",
    "## Choosing the best Evaluation Matrix:\n",
    "\n",
    "If we talk about classification problems, the most common metrics used are:\n",
    "- Accuracy\n",
    "- Precision (P)\n",
    "- Recall (R)\n",
    "- F1 score (F1)\n",
    "- Area under the ROC (Receiver Operating Characteristic) curve or simply AUC (AUC):\n",
    "    - If we calculate the area under the ROC curve, we are calculating another metric which is used very often when you have a dataset which has skewed binary targets. This metric is known as the Area Under ROC Curve or Area Under Curve or just simply AUC. There are many ways to calculate the area under the ROC curve\n",
    "    - AUC is a widely used metric for skewed binary classification tasks in the industry,and a metric everyone should know about\n",
    "\n",
    "- Log loss\n",
    "    > Log Loss = - 1.0 * ( target * log(prediction) + (1 - target) * log(1 - prediction) )\n",
    "\n",
    "Most of the metrics that we discussed until now can be converted to a multi-class version. The idea is quite simple. Let’s take precision and recall. We can calculate precision and recall for each class in a multi-class classification problem\n",
    "\n",
    "- **Mcro averaged precision**: calculate precision for all classes individually and then average them\n",
    "- **Micro averaged precision**: calculate class wise true positive and false positive and then use that to calculate overall precision\n",
    "- **Weighted precision**: same as macro but in this case, it is weighted average depending on the number of items in each class\n",
    "\n",
    "<img src=\"https://cdn-images-1.medium.com/max/800/1*1WPbfzztdv50V22TpA6njw.png\">\n"
   ]
  },
  {
   "cell_type": "code",
   "execution_count": 48,
   "id": "7718346d-6c3e-4e45-a4d5-0210618c8bed",
   "metadata": {},
   "outputs": [],
   "source": [
    "# Plot Evaluate Model\n",
    "def plot_roc_and_precision_recall(y_true, y_score):\n",
    "  # Get ROC curve FPR and TPR from true labels vs score values\n",
    "  fpr, tpr, _ = roc_curve(y_true, y_score)\n",
    "\n",
    "  # Calculate ROC Area Under the Curve (AUC) from FPR and TPR data points\n",
    "  roc_auc = auc(fpr, tpr)\n",
    "\n",
    "  # Calculate precision and recall from true labels vs score values\n",
    "  precision, recall, _ = precision_recall_curve(y_true, y_score)\n",
    "\n",
    "  plt.figure(figsize=(8, 3))\n",
    "\n",
    "  plt.subplot(1,2,1)\n",
    "  lw = 2\n",
    "  plt.plot(fpr, tpr, color='darkorange', lw=lw, label='ROC curve (AUC = %0.4f)' % roc_auc)\n",
    "  plt.plot([0, 1], [0, 1], color='navy', lw=lw, linestyle='--')\n",
    "  plt.xlim([0.0, 1.0])\n",
    "  plt.ylim([0.0, 1.05])\n",
    "  plt.xlabel('False Positive Rate')\n",
    "  plt.ylabel('True Positive Rate')\n",
    "  plt.title('ROC Curve')\n",
    "  plt.legend(loc=\"lower right\")\n",
    "  plt.grid(True)\n",
    "\n",
    "  plt.subplot(1,2,2)\n",
    "  plt.step(recall, precision, color='orange', where='post')\n",
    "  # plt.fill_between(recall, precision, step='post', alpha=0.5, color='orange')\n",
    "  plt.xlabel('Recall')\n",
    "  plt.ylabel('Precision')\n",
    "  plt.ylim([0.0, 1.05])\n",
    "  plt.xlim([0.0, 1.0])\n",
    "  plt.title('Precision Recall Curve')\n",
    "  plt.grid(True)\n",
    "\n",
    "  left  = 0.125  # the left side of the subplots of the figure\n",
    "  right = 0.9    # the right side of the subplots of the figure\n",
    "  bottom = 0.1   # the bottom part of the subplots of the figure\n",
    "  top = 0.9      # the top part of the subplots of the figure\n",
    "  wspace = 0.5   # the amount of width reserved for blank space between subplots\n",
    "  hspace = 0.2   # the amount of height reserved for white space between subplots\n",
    "  plt.subplots_adjust(left, bottom, right, top, wspace, hspace)\n",
    "  plt.show()\n",
    "\n",
    "    \n",
    "\n",
    "accuracy_train = []\n",
    "accuracy_test = []\n",
    "precision = []\n",
    "recall = []\n",
    "f_1_score = []\n",
    "\n",
    "def evalute_model(list_model):\n",
    "    for s_clf in list_model:\n",
    "        # model predict for data Train and Test\n",
    "        clf = eval(s_clf)\n",
    "        y_pred_train = clf.predict(X_train).astype(int) # returns a class decision based on the value of the predicted probability\n",
    "        y_pred = clf.predict(X_test).astype(int) # returns a class decision based on the value of the predicted probability\n",
    "        y_score = clf.predict_proba(X_test) # returns the value of the predicted probability\n",
    "\n",
    "        # Add to list all metrics avaluasi\n",
    "        accuracy_train.append(round(accuracy_score(y_train, y_pred_train),2)) # add to list accuracy score from train dataset\n",
    "        accuracy_test.append(round(accuracy_score(y_test, y_pred),2)) # add to list accuracy score from test dataset\n",
    "        precision.append(round(precision_score(y_test, y_pred, average='micro'),2)) # add precision score from test dataset\n",
    "        recall.append(round(recall_score(y_test, y_pred, average='micro'),2)) # add recal score from test dataset\n",
    "        f_1_score.append(round(f1_score(y_test, y_pred, average='micro'),2)) # add f1-score from test dataset\n",
    "    \n",
    "        print(\"CONFUSION MATRIX: \" + s_clf)\n",
    "        print('-'*35)\n",
    "        ax = plt.subplot()\n",
    "        cm = confusion_matrix(y_test, y_pred) # Create confusion matrix\n",
    "        sns.heatmap(cm, annot=True, fmt='g', ax=ax);\n",
    "        # labels, title and ticks\n",
    "        ax.set_xlabel('Predicted labels');ax.set_ylabel('True labels'); \n",
    "        ax.set_title('Confusion Matrix'); \n",
    "        plt.show()\n",
    "        print()\n",
    "        print('Classification Report: ' + s_clf) \n",
    "        print('-'*35)\n",
    "        print(classification_report(y_test, y_pred)) # evaluate model using classification report\n",
    "        print()\n",
    "        print(\"=\"*50)"
   ]
  },
  {
   "cell_type": "code",
   "execution_count": 49,
   "id": "aa6c31c6-5623-4316-b222-f26f9bffc6ad",
   "metadata": {},
   "outputs": [
    {
     "name": "stdout",
     "output_type": "stream",
     "text": [
      "CONFUSION MATRIX: clf_log\n",
      "-----------------------------------\n"
     ]
    },
    {
     "data": {
      "image/png": "[encoded data removed]",
      "text/plain": [
       "<Figure size 432x288 with 2 Axes>"
      ]
     },
     "metadata": {
      "needs_background": "light"
     },
     "output_type": "display_data"
    },
    {
     "name": "stdout",
     "output_type": "stream",
     "text": [
      "\n",
      "Classification Report: clf_log\n",
      "-----------------------------------\n",
      "              precision    recall  f1-score   support\n",
      "\n",
      "           0       0.89      1.00      0.94     91697\n",
      "           1       0.00      0.00      0.00      6934\n",
      "           2       0.00      0.00      0.00      4621\n",
      "\n",
      "    accuracy                           0.89    103252\n",
      "   macro avg       0.30      0.33      0.31    103252\n",
      "weighted avg       0.79      0.89      0.84    103252\n",
      "\n",
      "\n",
      "==================================================\n"
     ]
    },
    {
     "name": "stderr",
     "output_type": "stream",
     "text": [
      "C:\\Users\\User\\anaconda3\\lib\\site-packages\\sklearn\\metrics\\_classification.py:1327: UndefinedMetricWarning: Precision and F-score are ill-defined and being set to 0.0 in labels with no predicted samples. Use `zero_division` parameter to control this behavior.\n",
      "  _warn_prf(average, modifier, msg_start, len(result))\n",
      "C:\\Users\\User\\anaconda3\\lib\\site-packages\\sklearn\\metrics\\_classification.py:1327: UndefinedMetricWarning: Precision and F-score are ill-defined and being set to 0.0 in labels with no predicted samples. Use `zero_division` parameter to control this behavior.\n",
      "  _warn_prf(average, modifier, msg_start, len(result))\n",
      "C:\\Users\\User\\anaconda3\\lib\\site-packages\\sklearn\\metrics\\_classification.py:1327: UndefinedMetricWarning: Precision and F-score are ill-defined and being set to 0.0 in labels with no predicted samples. Use `zero_division` parameter to control this behavior.\n",
      "  _warn_prf(average, modifier, msg_start, len(result))\n"
     ]
    },
    {
     "name": "stdout",
     "output_type": "stream",
     "text": [
      "CONFUSION MATRIX: clf_knn\n",
      "-----------------------------------\n"
     ]
    },
    {
     "data": {
      "image/png": "[encoded data removed]",
      "text/plain": [
       "<Figure size 432x288 with 2 Axes>"
      ]
     },
     "metadata": {
      "needs_background": "light"
     },
     "output_type": "display_data"
    },
    {
     "name": "stdout",
     "output_type": "stream",
     "text": [
      "\n",
      "Classification Report: clf_knn\n",
      "-----------------------------------\n",
      "              precision    recall  f1-score   support\n",
      "\n",
      "           0       0.89      0.99      0.94     91697\n",
      "           1       0.05      0.01      0.01      6934\n",
      "           2       0.23      0.05      0.08      4621\n",
      "\n",
      "    accuracy                           0.88    103252\n",
      "   macro avg       0.39      0.35      0.34    103252\n",
      "weighted avg       0.81      0.88      0.84    103252\n",
      "\n",
      "\n",
      "==================================================\n",
      "CONFUSION MATRIX: clf_dc\n",
      "-----------------------------------\n"
     ]
    },
    {
     "data": {
      "image/png": "[encoded data removed]",
      "text/plain": [
       "<Figure size 432x288 with 2 Axes>"
      ]
     },
     "metadata": {
      "needs_background": "light"
     },
     "output_type": "display_data"
    },
    {
     "name": "stdout",
     "output_type": "stream",
     "text": [
      "\n",
      "Classification Report: clf_dc\n",
      "-----------------------------------\n",
      "              precision    recall  f1-score   support\n",
      "\n",
      "           0       0.89      0.96      0.92     91697\n",
      "           1       0.01      0.00      0.01      6934\n",
      "           2       0.20      0.10      0.13      4621\n",
      "\n",
      "    accuracy                           0.85    103252\n",
      "   macro avg       0.37      0.35      0.35    103252\n",
      "weighted avg       0.80      0.85      0.83    103252\n",
      "\n",
      "\n",
      "==================================================\n",
      "CONFUSION MATRIX: clf_rf\n",
      "-----------------------------------\n"
     ]
    },
    {
     "data": {
      "image/png": "[encoded data removed]",
      "text/plain": [
       "<Figure size 432x288 with 2 Axes>"
      ]
     },
     "metadata": {
      "needs_background": "light"
     },
     "output_type": "display_data"
    },
    {
     "name": "stdout",
     "output_type": "stream",
     "text": [
      "\n",
      "Classification Report: clf_rf\n",
      "-----------------------------------\n",
      "              precision    recall  f1-score   support\n",
      "\n",
      "           0       0.90      0.96      0.93     91697\n",
      "           1       0.01      0.00      0.01      6934\n",
      "           2       0.20      0.12      0.15      4621\n",
      "\n",
      "    accuracy                           0.86    103252\n",
      "   macro avg       0.37      0.36      0.36    103252\n",
      "weighted avg       0.81      0.86      0.83    103252\n",
      "\n",
      "\n",
      "==================================================\n"
     ]
    }
   ],
   "source": [
    "evalute_model(['clf_log', 'clf_knn', 'clf_dc', 'clf_rf'])"
   ]
  },
  {
   "cell_type": "code",
   "execution_count": 50,
   "id": "16774287-f447-47ba-8951-3f87998d0b6d",
   "metadata": {},
   "outputs": [
    {
     "data": {
      "text/html": [
       "<div>\n",
       "<style scoped>\n",
       "    .dataframe tbody tr th:only-of-type {\n",
       "        vertical-align: middle;\n",
       "    }\n",
       "\n",
       "    .dataframe tbody tr th {\n",
       "        vertical-align: top;\n",
       "    }\n",
       "\n",
       "    .dataframe thead th {\n",
       "        text-align: right;\n",
       "    }\n",
       "</style>\n",
       "<table border=\"1\" class=\"dataframe\">\n",
       "  <thead>\n",
       "    <tr style=\"text-align: right;\">\n",
       "      <th></th>\n",
       "      <th>Model</th>\n",
       "      <th>Train Accuracy</th>\n",
       "      <th>Test Accuracy</th>\n",
       "      <th>Precison</th>\n",
       "      <th>Recall</th>\n",
       "      <th>F1 SCORE</th>\n",
       "    </tr>\n",
       "  </thead>\n",
       "  <tbody>\n",
       "    <tr>\n",
       "      <th>0</th>\n",
       "      <td>Logistic Regression</td>\n",
       "      <td>0.89</td>\n",
       "      <td>0.89</td>\n",
       "      <td>0.89</td>\n",
       "      <td>0.89</td>\n",
       "      <td>0.89</td>\n",
       "    </tr>\n",
       "    <tr>\n",
       "      <th>1</th>\n",
       "      <td>KNN</td>\n",
       "      <td>0.89</td>\n",
       "      <td>0.88</td>\n",
       "      <td>0.88</td>\n",
       "      <td>0.88</td>\n",
       "      <td>0.88</td>\n",
       "    </tr>\n",
       "    <tr>\n",
       "      <th>3</th>\n",
       "      <td>Random Forest</td>\n",
       "      <td>0.90</td>\n",
       "      <td>0.86</td>\n",
       "      <td>0.86</td>\n",
       "      <td>0.86</td>\n",
       "      <td>0.86</td>\n",
       "    </tr>\n",
       "    <tr>\n",
       "      <th>2</th>\n",
       "      <td>Decision Tree</td>\n",
       "      <td>0.90</td>\n",
       "      <td>0.85</td>\n",
       "      <td>0.85</td>\n",
       "      <td>0.85</td>\n",
       "      <td>0.85</td>\n",
       "    </tr>\n",
       "  </tbody>\n",
       "</table>\n",
       "</div>"
      ],
      "text/plain": [
       "                 Model  Train Accuracy  Test Accuracy  Precison  Recall  \\\n",
       "0  Logistic Regression            0.89           0.89      0.89    0.89   \n",
       "1                  KNN            0.89           0.88      0.88    0.88   \n",
       "3        Random Forest            0.90           0.86      0.86    0.86   \n",
       "2        Decision Tree            0.90           0.85      0.85    0.85   \n",
       "\n",
       "   F1 SCORE  \n",
       "0      0.89  \n",
       "1      0.88  \n",
       "3      0.86  \n",
       "2      0.85  "
      ]
     },
     "execution_count": 50,
     "metadata": {},
     "output_type": "execute_result"
    }
   ],
   "source": [
    "# Make dataframe for metriks eval\n",
    "model_default = pd.DataFrame({'Model': ['Logistic Regression', 'KNN', 'Decision Tree', 'Random Forest'],\n",
    "                          'Train Accuracy' : accuracy_train,\n",
    "                          'Test Accuracy': accuracy_test,\n",
    "                          'Precison': precision,\n",
    "                          'Recall': recall,\n",
    "                          'F1 SCORE': f_1_score})\n",
    "\n",
    "# Sort metriks recall in ASC\n",
    "model_default.sort_values(by='Recall', ascending=False)"
   ]
  },
  {
   "cell_type": "markdown",
   "id": "49b8d4f6-badb-452a-b2da-dde9a8972113",
   "metadata": {},
   "source": [
    "From the results of the evaluation of the metrics used, we can see the performance of the model using the default parameters.\n",
    "\n",
    "The model is able to classify well, but if we look further from the results of the confusion matrix, the logistic regression model is not able to work well in terms of making predictions. Although the logistic regression model has good evaluation metric results."
   ]
  },
  {
   "cell_type": "markdown",
   "id": "12915754-bb27-4cb5-b7b5-9deac0b2e29c",
   "metadata": {},
   "source": [
    "# Tuning Model\n",
    "\n",
    "## Hyperparameter optimization\n",
    "In machine learning, hyperparameter optimization or tuning is the problem of choosing a set of optimal hyperparameters for a learning algorithm. A hyperparameter is a parameter whose value is used to control the learning process. By contrast, the values of other parameters (typically node weights) are learned.\n",
    "\n",
    "The same kind of machine learning model can require different constraints, weights or learning rates to generalize different data patterns. These measures are called hyperparameters, and have to be tuned so that the model can optimally solve the machine learning problem. Hyperparameter optimization finds a tuple of hyperparameters that yields an optimal model which minimizes a predefined loss function on given independent data. The objective function takes a tuple of hyperparameters and returns the associated loss. Cross-validation is often used to estimate this generalization performance.\n",
    "\n",
    "## Approaches\n",
    "\n",
    "### **Grid search**\n",
    "\n",
    "<img src=\"https://upload.wikimedia.org/wikipedia/commons/thumb/b/b6/Hyperparameter_Optimization_using_Grid_Search.svg/220px-Hyperparameter_Optimization_using_Grid_Search.svg.png\" width=40%>\n",
    "\n",
    "Grid search across different values of two hyperparameters. For each hyperparameter, 10 different values are considered, so a total of 100 different combinations are evaluated and compared. Blue contours indicate regions with strong results, whereas red ones show regions with poor results.\n",
    "\n",
    "### **Random search**\n",
    "\n",
    "\n",
    "<img src=\"https://upload.wikimedia.org/wikipedia/commons/thumb/7/74/Hyperparameter_Optimization_using_Random_Search.svg/220px-Hyperparameter_Optimization_using_Random_Search.svg.png\" width=40%>\n",
    "\n",
    "Random search across different combinations of values for two hyperparameters. In this example, 100 different random choices are evaluated. The green bars show that more individual values for each hyperparameter are considered compared to a grid search.\n",
    "\n",
    "\n",
    "Source : Wikipedia [Hyperparameter](https://en.wikipedia.org/wiki/Hyperparameter_optimization)"
   ]
  },
  {
   "cell_type": "markdown",
   "id": "e207fb5a-214e-4c08-b3d0-fb5ed04757b4",
   "metadata": {},
   "source": [
    "## Logistic Regression Tuning\n",
    "\n",
    "### Tuning parameter **Ligistic Regression** Using `Random Search`"
   ]
  },
  {
   "cell_type": "code",
   "execution_count": null,
   "id": "c8ab9c38-c712-4f59-a489-5d4ad245172a",
   "metadata": {},
   "outputs": [],
   "source": [
    "import time\n",
    "from sklearn.model_selection import RepeatedStratifiedKFold\n",
    "from sklearn.model_selection import GridSearchCV, RandomizedSearchCV\n",
    "# Use the random grid to search for best hyperparameters\n",
    "# define models and parameters\n",
    "solvers = ['newton-cg', 'lbfgs', 'liblinear']\n",
    "penalty = ['l2','l1']\n",
    "c_values = [1000, 100, 10, 1.0, 0.1, 0.01]\n",
    "\n",
    "# define random search\n",
    "grid = {'solver': solvers,\n",
    "        'penalty': penalty,\n",
    "        'C': c_values\n",
    "}\n",
    "cv = RepeatedStratifiedKFold(n_splits=5, n_repeats=3, random_state=1)\n",
    "rs_log = RandomizedSearchCV(estimator=clf_log, param_distributions=grid, n_jobs=-1, cv=cv, scoring='recall',random_state=42, error_score=0, verbose=True)\n",
    "%time rs_log.fit(X_train, y_train) # Fit the random\n",
    "\n",
    "# summarize results\n",
    "print(\"Best: %f using %s\" % (rs_log.best_score_, rs_log.best_params_))\n",
    "means = rs_log.cv_results_['mean_test_score']\n",
    "stds = rs_log.cv_results_['std_test_score']\n",
    "params = rs_log.cv_results_['params']\n",
    "for mean, stdev, param in zip(means, stds, params):\n",
    "    print(\"%f (%f) with: %r\" % (mean, stdev, param))"
   ]
  },
  {
   "cell_type": "markdown",
   "id": "b0585cf3-dfa2-4000-9df7-9a504d22d192",
   "metadata": {},
   "source": [
    "### After Tuning using `Random Search` next we will tuning use `Grid Search`"
   ]
  },
  {
   "cell_type": "code",
   "execution_count": null,
   "id": "a5cc941f-be76-429f-b286-fdeb1d4e4641",
   "metadata": {},
   "outputs": [],
   "source": [
    "# Create grid parameter for GridSearch\n",
    "grid_param = {\n",
    "    'solver':[rs_log.best_params_['solver']],\n",
    "    'penalty':[rs_log.best_params_['penalty']],\n",
    "    'C':[1000, 100, 10, 1, 0.1, 0.01, 0.001]\n",
    "}\n",
    "# Define Cross Validation \n",
    "cv = RepeatedStratifiedKFold(n_splits=15, n_repeats=3, random_state=1)\n",
    "gs_log = GridSearchCV(estimator=clf_log, param_grid=grid_param, n_jobs=-1, cv=cv, scoring='roc_auc',error_score=0, verbose=True)\n",
    "%time gs_log.fit(X_train, y_train) # Training Model Grid Params\n",
    "\n",
    "# summarize results\n",
    "print(\"Best: %f using %s\" % (gs_log.best_score_, gs_log.best_params_))\n",
    "means = gs_log.cv_results_['mean_test_score']\n",
    "stds = gs_log.cv_results_['std_test_score']\n",
    "params = gs_log.cv_results_['params']\n",
    "for mean, stdev, param in zip(means, stds, params):\n",
    "    print(\"%f (%f) with: %r\" % (mean, stdev, param))"
   ]
  },
  {
   "cell_type": "markdown",
   "id": "f0eadf59-33fb-481f-8e7d-dfca22e80d2e",
   "metadata": {},
   "source": [
    "## KNN Tuning\n",
    "\n",
    "###  Tuning parameter **KNN** Using `Random Search`"
   ]
  },
  {
   "cell_type": "code",
   "execution_count": null,
   "id": "ddb89126-dfcf-4223-8ecd-2cf745734795",
   "metadata": {},
   "outputs": [],
   "source": [
    "# Use the random grid to search for best hyperparameters\n",
    "weights = ['uniform', 'distance'] # define parameter to list for tunning\n",
    "n_neighbors = [2, 3, 5, 7, 8, 10, 15] # define parameter ti list for tunning\n",
    "\n",
    "# define random search\n",
    "grid = {'weights': weights,\n",
    "        'n_neighbors': n_neighbors\n",
    "}\n",
    "cv = RepeatedStratifiedKFold(n_splits=5, n_repeats=3, random_state=1)\n",
    "rs_knn = RandomizedSearchCV(estimator=clf_knn, param_distributions=grid, n_jobs=-1, cv=cv, scoring='recall',random_state=42, error_score=0, verbose=True)\n",
    "%time rs_knn.fit(X_train, y_train) # Fit the random\n",
    "\n",
    "# summarize results\n",
    "print(\"Best: %f using %s\" % (rs_knn.best_score_, rs_knn.best_params_))\n",
    "means = rs_knn.cv_results_['mean_test_score']\n",
    "stds = rs_knn.cv_results_['std_test_score']\n",
    "params = rs_knn.cv_results_['params']\n",
    "for mean, stdev, param in zip(means, stds, params):\n",
    "    print(\"%f (%f) with: %r\" % (mean, stdev, param))"
   ]
  },
  {
   "cell_type": "markdown",
   "id": "1c91b5c0-a912-4609-b5bd-34a7064c3cc2",
   "metadata": {},
   "source": [
    "###  Tuning parameter **KNN** Using `GridSearch`"
   ]
  },
  {
   "cell_type": "code",
   "execution_count": null,
   "id": "952c6933-2b62-4d0a-af66-696f3135f9fd",
   "metadata": {},
   "outputs": [],
   "source": [
    "# Create parameter for gridserch \n",
    "param_grid = {\n",
    "    'weights':[rs_knn.best_params_['weights']],\n",
    "    'n_neighbors': [2,3,4,5]\n",
    "}\n",
    "\n",
    "# Define Cross Validation \n",
    "cv = RepeatedStratifiedKFold(n_splits=15, n_repeats=3, random_state=1)\n",
    "gs_knn = GridSearchCV(estimator=clf_knn, param_grid=param_grid, n_jobs=-1, cv=cv, scoring='roc_auc',error_score=0, verbose=True)\n",
    "%time gs_knn.fit(X_train, y_train) # Training Model Grid Params\n",
    "\n",
    "# summarize results\n",
    "print(\"Best: %f using %s\" % (gs_knn.best_score_, gs_knn.best_params_))\n",
    "means = gs_knn.cv_results_['mean_test_score']\n",
    "stds = gs_knn.cv_results_['std_test_score']\n",
    "params = gs_knn.cv_results_['params']\n",
    "for mean, stdev, param in zip(means, stds, params):\n",
    "    print(\"%f (%f) with: %r\" % (mean, stdev, param))\n"
   ]
  },
  {
   "cell_type": "markdown",
   "id": "82c805c7-f02d-45dc-b618-e224c4c734f8",
   "metadata": {},
   "source": [
    "## Decision Tree Tuning\n",
    "### Tuning Parameter **Decision Tree** using `RandomSearch`"
   ]
  },
  {
   "cell_type": "code",
   "execution_count": null,
   "id": "64942837-c0c3-4ce6-87f5-6941bc38027d",
   "metadata": {},
   "outputs": [],
   "source": [
    "# Use the random grid to search for best hyperparameters\n",
    "criterion = ['gini', 'entropy'] # define parameter to list for tunning\n",
    "max_depth = [1000, 600, 200, 100, 80, 50, 20] # define parameter ti list for tunning\n",
    "min_samples_split = [2, 4, 6, 8, 10]\n",
    "min_samples_leaf = [1, 2, 3]\n",
    "\n",
    "# define random search\n",
    "grid = {'criterion': criterion,\n",
    "        'max_depth': max_depth,\n",
    "        'min_samples_split': min_samples_split,\n",
    "        'min_samples_leaf': min_samples_leaf\n",
    "}\n",
    "\n",
    "# Define cross validation\n",
    "cv = RepeatedStratifiedKFold(n_splits=5, n_repeats=3, random_state=1)\n",
    "rs_dc = RandomizedSearchCV(estimator=clf_dc, param_distributions=grid, n_jobs=-1, cv=cv, scoring='recall',random_state=42, error_score=0, verbose=True)\n",
    "%time rs_dc.fit(X_train, y_train) # Fit the random\n",
    "\n",
    "# summarize results\n",
    "print(\"Best: %f using %s\" % (rs_dc.best_score_, rs_dc.best_params_))\n",
    "means = rs_dc.cv_results_['mean_test_score']\n",
    "stds = rs_dc.cv_results_['std_test_score']\n",
    "params = rs_dc.cv_results_['params']\n",
    "for mean, stdev, param in zip(means, stds, params):\n",
    "    print(\"%f (%f) with: %r\" % (mean, stdev, param))"
   ]
  },
  {
   "cell_type": "markdown",
   "id": "5680557b-7585-4573-8008-562a61f11a49",
   "metadata": {},
   "source": [
    "### Tuning Parameter **Decision Tree** using `Gridsearch`"
   ]
  },
  {
   "cell_type": "code",
   "execution_count": null,
   "id": "b4f8ea11-ea3d-433d-b3cc-a777295d2515",
   "metadata": {},
   "outputs": [],
   "source": [
    "# Create parameter for gridserch \n",
    "param_grid = {\n",
    "    'criterion':[rs_dc.best_params_['criterion']],\n",
    "    'min_samples_split': [2,3,4],\n",
    "    'min_samples_leaf': [1,2,3],\n",
    "    'max_depth':[50,60,70,80,90,100]\n",
    "}\n",
    "\n",
    "# Define Cross Validation \n",
    "cv = RepeatedStratifiedKFold(n_splits=5, n_repeats=3, random_state=1)\n",
    "gs_dc = GridSearchCV(estimator=clf_dc, param_grid=param_grid, n_jobs=-1, cv=cv, scoring='roc_auc',error_score=0, verbose=True)\n",
    "%time gs_dc.fit(X_train, y_train) # Training Model Grid Params\n",
    "\n",
    "# summarize results\n",
    "print(\"Best: %f using %s\" % (gs_dc.best_score_, gs_dc.best_params_))\n",
    "means = gs_dc.cv_results_['mean_test_score']\n",
    "stds = gs_dc.cv_results_['std_test_score']\n",
    "params = gs_dc.cv_results_['params']\n",
    "for mean, stdev, param in zip(means, stds, params):\n",
    "    print(\"%f (%f) with: %r\" % (mean, stdev, param))\n"
   ]
  },
  {
   "cell_type": "markdown",
   "id": "cb5982b1-c506-4542-b5bf-312a245f8e68",
   "metadata": {},
   "source": [
    "## Random Forest Tuning\n",
    "### Tuning parameter **Random Forest** using `Randomsearch`"
   ]
  },
  {
   "cell_type": "code",
   "execution_count": null,
   "id": "8bebe008-8108-4708-a3dd-5f099fbfbd54",
   "metadata": {},
   "outputs": [],
   "source": [
    "# Use the random grid to search for best hyperparameters\n",
    "criterion = ['gini', 'entropy'] # define parameter to list for tunning\n",
    "max_depth = [1000, 600, 200, 100, 80, 50, 20] # define parameter ti list for tunning\n",
    "n_estimators = [2000,1000,500, 100, 50]\n",
    "min_samples_split = [2, 4, 6, 8, 10]\n",
    "min_samples_leaf = [1, 2, 3]\n",
    "\n",
    "# define random search\n",
    "grid = {'criterion': criterion,\n",
    "        'max_depth': max_depth,\n",
    "        'n_estimators':n_estimators,\n",
    "        'min_samples_split': min_samples_split,\n",
    "        'min_samples_leaf': min_samples_leaf\n",
    "}\n",
    "\n",
    "# Define cross validation\n",
    "cv = RepeatedStratifiedKFold(n_splits=5, n_repeats=3, random_state=1)\n",
    "rs_rf = RandomizedSearchCV(estimator=clf_rf, param_distributions=grid, n_jobs=-1, cv=cv, scoring='recall',random_state=42, error_score=0, verbose=True)\n",
    "%time rs_rf.fit(X_train, y_train) # Fit the random\n",
    "\n",
    "# summarize results\n",
    "print(\"Best: %f using %s\" % (rs_rf.best_score_, rs_rf.best_params_))\n",
    "means = rs_rf.cv_results_['mean_test_score']\n",
    "stds = rs_rf.cv_results_['std_test_score']\n",
    "params = rs_rf.cv_results_['params']\n",
    "for mean, stdev, param in zip(means, stds, params):\n",
    "    print(\"%f (%f) with: %r\" % (mean, stdev, param))"
   ]
  },
  {
   "cell_type": "markdown",
   "id": "462b4abc-660f-488c-be5f-96e19c3bdd39",
   "metadata": {},
   "source": [
    "### Tuning paramater **Random Forest** using `Gridsearch`"
   ]
  },
  {
   "cell_type": "code",
   "execution_count": null,
   "id": "ce148d8d-315a-41cb-902a-a263aaf238e3",
   "metadata": {},
   "outputs": [],
   "source": [
    "# Create parameter for gridserch \n",
    "param_grid = {\n",
    "    'criterion':[rs_rf.best_params_['criterion']],\n",
    "    'n_estimators': [800, 1000, 1200],\n",
    "    'min_samples_split': [5, 8, 10],\n",
    "    'min_samples_leaf': [1, 2, 3],\n",
    "    'max_depth':[10,20,30]\n",
    "}\n",
    "\n",
    "# Define Cross Validation \n",
    "cv = RepeatedStratifiedKFold(n_splits=5, n_repeats=3, random_state=1)\n",
    "gs_rf = GridSearchCV(estimator=clf_rf, param_grid=param_grid, n_jobs=-1, cv=cv, scoring='roc_auc',error_score=0, verbose=True)\n",
    "%time gs_rf.fit(X_train, y_train) # Training Model Grid Params\n",
    "\n",
    "# summarize results\n",
    "print(\"Best: %f using %s\" % (gs_rf.best_score_, gs_rf.best_params_))\n",
    "means = gs_rf.cv_results_['mean_test_score']\n",
    "stds = gs_rf.cv_results_['std_test_score']\n",
    "params = gs_rf.cv_results_['params']\n",
    "for mean, stdev, param in zip(means, stds, params):\n",
    "    print(\"%f (%f) with: %r\" % (mean, stdev, param))\n"
   ]
  },
  {
   "cell_type": "markdown",
   "id": "1aea9575-d016-4b0b-93d4-f90e7c48f5c3",
   "metadata": {},
   "source": [
    "## Evaluate model after Tuning"
   ]
  },
  {
   "cell_type": "code",
   "execution_count": null,
   "id": "aab4ce7b-a1b0-4554-acd8-ca19ad5a41af",
   "metadata": {},
   "outputs": [],
   "source": [
    "accuracy_train_tun = []\n",
    "accuracy_test_tun = []\n",
    "precision_tun = []\n",
    "recall_tun = []\n",
    "f_1_score_tun = []\n",
    "\n",
    "# Create function for evaluate model\n",
    "def eval_model(list_model):\n",
    "    for tuning_clf in list_model:\n",
    "        # Predict model for training and testing data\n",
    "        clf = eval(tuning_clf)\n",
    "        y_pred_train = clf.predict(X_train).astype(int) # Return a class decision bases on the value of the predicted probability\n",
    "        y_pred = clf.predict(X_test).astype(int) # Return a class decision based on the value of the predicted probability\n",
    "        \n",
    "        # Add to list all metrics avaluasi\n",
    "        accuracy_train_tun.append(round(accuracy_score(y_train, y_pred_train),2)) # add to list accuracy score from train dataset\n",
    "        accuracy_test_tun.append(round(accuracy_score(y_test, y_pred),2)) # add to list accuracy score from test dataset\n",
    "        precision_tun.append(round(precision_score(y_test, y_pred, average=\"micro\"),2)) # add precision score from test dataset\n",
    "        recall_tun.append(round(recall_score(y_test, y_pred, average=\"micro\"),2)) # add recal score from test dataset\n",
    "        f_1_score_tun.append(round(f1_score(y_test, y_pred, average='micro'),2)) # add f1-score from test dataset\n",
    "        \n",
    "        "
   ]
  },
  {
   "cell_type": "code",
   "execution_count": null,
   "id": "7cf5b141-dca0-497a-8e41-90378e7b1feb",
   "metadata": {},
   "outputs": [],
   "source": [
    "# Create list model and evaluate model\n",
    "clf_log_tun = gs_log.best_estimator_ # call best parameter to use \n",
    "clf_knn_tun = gs_knn.best_estimator_ # Call best parameter knn after tunning\n",
    "clf_svc_tun = gs_svc.best_estimator_ # Call best parameter svc after tunnig\n",
    "clf_dc_tun = gs_dc.best_estimator_ # Call best parameter Decision Tree after tunning\n",
    "cfl_rf_tun = gs_rf.best_estimator_ # Call best parameter Random Forest after tunning\n",
    "\n",
    "# Evaluate model \n",
    "eval_model(['clf_log_tun', 'clf_knn_tun', 'clf_svc_tun', 'clf_dc_tun', 'cfl_rf_tun'])\n",
    "\n",
    "# Create dataframe result evaluate model after tunning\n",
    "model_tun = pd.DataFrame({\n",
    "    'Model': ['Logistic Regression', 'KNN', 'SVC', 'Decision Tree', 'Random Forest'],\n",
    "    'Train Accuracy': accuracy_train_tun,\n",
    "    'Test Accuracy' : accuracy_test_tun,\n",
    "    'Precision' : precision_tun,\n",
    "    'Recall': recall_tun,\n",
    "    'f1-score': f_1_score_tun\n",
    "})\n",
    "\n",
    "# Create New Column for see progress after tuning parameters\n",
    "model_tun['% Change'] = (model_tun['Recall'] - model_default['Recall']) / model_default['Recall'] * 100\n",
    "\n",
    "\n",
    "model_tun.sort_values(by='Recall', ascending=False)"
   ]
  },
  {
   "cell_type": "markdown",
   "id": "c6576e9f-74fd-4a26-8bc4-58a53fba1dec",
   "metadata": {},
   "source": [
    "### Create visualisasi For better comparison model before and after tunning"
   ]
  },
  {
   "cell_type": "code",
   "execution_count": null,
   "id": "41206b5f-2389-435f-b83c-525eded5f981",
   "metadata": {},
   "outputs": [],
   "source": [
    "# Create figure for plotting\n",
    "plt.figure(figsize=(12,6))\n",
    "\n",
    "# Share Figure\n",
    "plt.subplot(1,2,1)\n",
    "p1 = sns.barplot(data=model_tun.sort_values(by='Recall', ascending=False), x='Model', y='Recall')\n",
    "for p in p1.patches:\n",
    "    p1.annotate(f'{p.get_height()}', (p.get_x() + p.get_width()/2., p.get_height()), ha = 'center', va = 'center', xytext = (0, 10), textcoords = 'offset points')\n",
    "plt.legend()\n",
    "plt.xticks(rotation = 45) # Rotates X-Axis Ticks by 45-degrees\n",
    "plt.title(\"Model After Tuning and Result by Recall\")\n",
    "\n",
    "# Share figure\n",
    "plt.subplot(1,2,2)\n",
    "q = sns.barplot(data=model_default.sort_values(by='Recall', ascending=False), x='Model', y='Recall')\n",
    "for p in q.patches:\n",
    "    q.annotate(f'{p.get_height()}', (p.get_x() + p.get_width()/2., p.get_height()), ha = 'center', va = 'center', xytext = (0, 10), textcoords = 'offset points')\n",
    "plt.legend()\n",
    "plt.title(\"Model Before Tuning and Result by Recall\")\n",
    "plt.xticks(rotation = 45) # Rotates X-Axis Ticks by 45-degrees\n",
    "plt.tight_layout()\n",
    "plt.show()"
   ]
  },
  {
   "cell_type": "markdown",
   "id": "235addde-a587-4c8a-be21-72aef93ce80a",
   "metadata": {},
   "source": [
    "# Save Model\n"
   ]
  },
  {
   "cell_type": "code",
   "execution_count": 53,
   "id": "e8483263-8ffb-4b2d-81f2-7ebb25633433",
   "metadata": {},
   "outputs": [
    {
     "name": "stdout",
     "output_type": "stream",
     "text": [
      "Waitting for saving...\n",
      "Model Successfully Saving\n"
     ]
    }
   ],
   "source": [
    "# import module for saving model\n",
    "import pickle\n",
    "\n",
    "# model saving\n",
    "with open(\"model_knn.pkl\", \"wb\") as model_file:\n",
    "    pickle.dump(clf_knn, model_file)\n",
    "print(\"Waitting for saving...\")\n",
    "time.sleep(3)\n",
    "print(\"Model Successfully Saving\")"
   ]
  },
  {
   "cell_type": "markdown",
   "id": "9c92962d-fa65-4031-b916-edbbd19ea9e7",
   "metadata": {},
   "source": [
    "# Load Model"
   ]
  },
  {
   "cell_type": "code",
   "execution_count": 56,
   "id": "b657d1ef-db74-4e22-9372-c6c425f589df",
   "metadata": {},
   "outputs": [
    {
     "name": "stdout",
     "output_type": "stream",
     "text": [
      "Waitting for Loading...\n",
      "Model Load Successfully\n"
     ]
    }
   ],
   "source": [
    "# load saving\n",
    "with open(\"model_knn.pkl\", \"rb\") as model_file:\n",
    "    model = pickle.load(model_file)\n",
    "print(\"Waitting for Loading...\")\n",
    "time.sleep(3)\n",
    "print(\"Model Load Successfully\")"
   ]
  },
  {
   "cell_type": "markdown",
   "id": "a3be32dc-ff8f-4e02-99e8-116436793735",
   "metadata": {},
   "source": [
    "# Inference Model"
   ]
  },
  {
   "cell_type": "code",
   "execution_count": 100,
   "id": "7ee4912f-d35b-4c2e-a048-d02fd83be473",
   "metadata": {},
   "outputs": [],
   "source": [
    "# Resample 10 data for inference model\n",
    "sample = df_ori.sample(n=100, random_state=10)"
   ]
  },
  {
   "cell_type": "markdown",
   "id": "52c81b01-8792-4f53-a1b7-a37ae1287f12",
   "metadata": {},
   "source": [
    "### Preprocess data before predict"
   ]
  },
  {
   "cell_type": "code",
   "execution_count": 101,
   "id": "de4a05ec-c154-49b0-9956-074e8ae4d94f",
   "metadata": {},
   "outputs": [
    {
     "data": {
      "text/plain": [
       "event_type     0.0\n",
       "product_id     0.0\n",
       "category_id    0.0\n",
       "brand          0.0\n",
       "price          0.0\n",
       "dtype: float64"
      ]
     },
     "execution_count": 101,
     "metadata": {},
     "output_type": "execute_result"
    }
   ],
   "source": [
    "# convert dtype 'event_time' to datetime in pandas\n",
    "# using pd.to_datetime for convert\n",
    "sample['event_time'] = pd.to_datetime(sample['event_time'],  infer_datetime_format=True)\n",
    "\n",
    "# next create new columns\n",
    "# extract data from df['ecevent_time']\n",
    "# i.o 'year', 'month', 'date', 'hour'\n",
    "sample['year'] = sample['event_time'].dt.year\n",
    "sample['month'] = sample['event_time'].dt.month_name()\n",
    "sample['date'] = sample['event_time'].dt.day_name()\n",
    "sample['hour'] = sample['event_time'].dt.hour\n",
    "\n",
    "# next drop columns 'event_time'\n",
    "sample.drop(columns=['event_time'], axis=1, inplace=True)\n",
    "\n",
    "# splitting 'category_code' column into Two columns\n",
    "# i.e. 'category' and 'product_name'respectively and\n",
    "# Adding these columns to the existing dataframe.\n",
    "sample['category'] = sample['category_code'].astype(str).apply(lambda x: x.split('.')[0]) # Split data from category_code and add new column category \n",
    "sample['product_name'] = sample['category_code'].astype(str).apply(lambda x: x.split('.')[-1]) # Split data form category_code and add new columns product_name\n",
    "sample.drop(columns=['category_code'], axis=1, inplace=True) # dropp colum 'category_code'\n",
    "\n",
    "# Replace 'unknown', `999` , and `nonexistent` to nan\n",
    "sample.replace('nan', np.nan, inplace=True)\n",
    "\n",
    "# Drop missing value\n",
    "sample.dropna(axis=0, inplace=True)\n",
    "\n",
    "# Show percentage missing values\n",
    "(sample.isnull().sum() / len(sample) * 100).sort_values(ascending=False).head()\n",
    "\n"
   ]
  },
  {
   "cell_type": "code",
   "execution_count": 102,
   "id": "c001b6a0-4552-4e5b-afdb-8ccab36d3b71",
   "metadata": {},
   "outputs": [],
   "source": [
    "# Next use apply function pandas for handling cardinality\n",
    "sample['brand'] = sample.brand.apply(modif_brand) # handling cardinality in data brand\n",
    "sample['product_name'] = sample.product_name.apply(modif_product) # handling cardinality in data product name\n",
    "\n",
    "# Drop Uncessery data\n",
    "sample.drop(['category_id', 'product_id', 'user_id', 'user_session'], axis=1, inplace=True)\n",
    "\n",
    "# Drop label data\n",
    "sample_clean =  sample.drop(['event_type'], axis=1)"
   ]
  },
  {
   "cell_type": "code",
   "execution_count": 103,
   "id": "8e1d4591-4ab8-4a1f-ae61-f5d4bc5a4d5e",
   "metadata": {},
   "outputs": [
    {
     "name": "stdout",
     "output_type": "stream",
     "text": [
      "Numerical Columns : ['price', 'year', 'hour']\n",
      "Categorical Columns : ['brand', 'month', 'date', 'category', 'product_name']\n"
     ]
    }
   ],
   "source": [
    "## Split data Kategorik and Numerical\n",
    "num_columns = sample_clean.select_dtypes(include=np.number).columns.tolist()\n",
    "cat_columns = sample_clean.select_dtypes(include=['object']).columns.tolist()\n",
    "print(\"Numerical Columns :\", num_columns)\n",
    "print(\"Categorical Columns :\", cat_columns)"
   ]
  },
  {
   "cell_type": "code",
   "execution_count": 105,
   "id": "3966e01d-5c0f-4600-b47f-725d69953d47",
   "metadata": {},
   "outputs": [],
   "source": [
    "# Encode for categorical data\n",
    "# Inititate Encoder\n",
    "le = LabelEncoder()\n",
    "for col in cat_columns:\n",
    "    sample_clean[col] = le.fit_transform(sample_clean[col])\n",
    "\n",
    "# Scaling for numerical data\n",
    "sample_clean[num_columns] = scaler.transform(sample_clean[num_columns])"
   ]
  },
  {
   "cell_type": "code",
   "execution_count": 108,
   "id": "b0d1fb3f-eb4d-4d49-9df5-2b5454f8a263",
   "metadata": {},
   "outputs": [
    {
     "data": {
      "text/html": [
       "<div>\n",
       "<style scoped>\n",
       "    .dataframe tbody tr th:only-of-type {\n",
       "        vertical-align: middle;\n",
       "    }\n",
       "\n",
       "    .dataframe tbody tr th {\n",
       "        vertical-align: top;\n",
       "    }\n",
       "\n",
       "    .dataframe thead th {\n",
       "        text-align: right;\n",
       "    }\n",
       "</style>\n",
       "<table border=\"1\" class=\"dataframe\">\n",
       "  <thead>\n",
       "    <tr style=\"text-align: right;\">\n",
       "      <th></th>\n",
       "      <th>event_type</th>\n",
       "      <th>brand</th>\n",
       "      <th>price</th>\n",
       "      <th>year</th>\n",
       "      <th>month</th>\n",
       "      <th>date</th>\n",
       "      <th>hour</th>\n",
       "      <th>category</th>\n",
       "      <th>product_name</th>\n",
       "      <th>Predict - Event Type</th>\n",
       "    </tr>\n",
       "  </thead>\n",
       "  <tbody>\n",
       "    <tr>\n",
       "      <th>468489</th>\n",
       "      <td>view</td>\n",
       "      <td>msi</td>\n",
       "      <td>490.54</td>\n",
       "      <td>2020</td>\n",
       "      <td>December</td>\n",
       "      <td>Saturday</td>\n",
       "      <td>15</td>\n",
       "      <td>computers</td>\n",
       "      <td>videocards</td>\n",
       "      <td>0</td>\n",
       "    </tr>\n",
       "    <tr>\n",
       "      <th>430274</th>\n",
       "      <td>view</td>\n",
       "      <td>other</td>\n",
       "      <td>146.92</td>\n",
       "      <td>2020</td>\n",
       "      <td>December</td>\n",
       "      <td>Saturday</td>\n",
       "      <td>9</td>\n",
       "      <td>electronics</td>\n",
       "      <td>telephone</td>\n",
       "      <td>0</td>\n",
       "    </tr>\n",
       "    <tr>\n",
       "      <th>519937</th>\n",
       "      <td>view</td>\n",
       "      <td>other</td>\n",
       "      <td>54.83</td>\n",
       "      <td>2020</td>\n",
       "      <td>December</td>\n",
       "      <td>Tuesday</td>\n",
       "      <td>7</td>\n",
       "      <td>electronics</td>\n",
       "      <td>headphone</td>\n",
       "      <td>0</td>\n",
       "    </tr>\n",
       "    <tr>\n",
       "      <th>792050</th>\n",
       "      <td>view</td>\n",
       "      <td>palit</td>\n",
       "      <td>371.46</td>\n",
       "      <td>2021</td>\n",
       "      <td>February</td>\n",
       "      <td>Friday</td>\n",
       "      <td>14</td>\n",
       "      <td>computers</td>\n",
       "      <td>videocards</td>\n",
       "      <td>0</td>\n",
       "    </tr>\n",
       "    <tr>\n",
       "      <th>701082</th>\n",
       "      <td>view</td>\n",
       "      <td>amd</td>\n",
       "      <td>204.29</td>\n",
       "      <td>2021</td>\n",
       "      <td>January</td>\n",
       "      <td>Friday</td>\n",
       "      <td>3</td>\n",
       "      <td>computers</td>\n",
       "      <td>cpu</td>\n",
       "      <td>0</td>\n",
       "    </tr>\n",
       "    <tr>\n",
       "      <th>685342</th>\n",
       "      <td>view</td>\n",
       "      <td>other</td>\n",
       "      <td>122.86</td>\n",
       "      <td>2021</td>\n",
       "      <td>January</td>\n",
       "      <td>Tuesday</td>\n",
       "      <td>13</td>\n",
       "      <td>computers</td>\n",
       "      <td>printer</td>\n",
       "      <td>0</td>\n",
       "    </tr>\n",
       "    <tr>\n",
       "      <th>299286</th>\n",
       "      <td>view</td>\n",
       "      <td>other</td>\n",
       "      <td>13.92</td>\n",
       "      <td>2020</td>\n",
       "      <td>November</td>\n",
       "      <td>Tuesday</td>\n",
       "      <td>12</td>\n",
       "      <td>stationery</td>\n",
       "      <td>other</td>\n",
       "      <td>0</td>\n",
       "    </tr>\n",
       "    <tr>\n",
       "      <th>744020</th>\n",
       "      <td>view</td>\n",
       "      <td>canon</td>\n",
       "      <td>279.02</td>\n",
       "      <td>2021</td>\n",
       "      <td>February</td>\n",
       "      <td>Thursday</td>\n",
       "      <td>23</td>\n",
       "      <td>computers</td>\n",
       "      <td>printer</td>\n",
       "      <td>0</td>\n",
       "    </tr>\n",
       "    <tr>\n",
       "      <th>270481</th>\n",
       "      <td>view</td>\n",
       "      <td>other</td>\n",
       "      <td>86.13</td>\n",
       "      <td>2020</td>\n",
       "      <td>November</td>\n",
       "      <td>Friday</td>\n",
       "      <td>7</td>\n",
       "      <td>construction</td>\n",
       "      <td>other</td>\n",
       "      <td>0</td>\n",
       "    </tr>\n",
       "    <tr>\n",
       "      <th>1858</th>\n",
       "      <td>view</td>\n",
       "      <td>topon</td>\n",
       "      <td>15.24</td>\n",
       "      <td>2020</td>\n",
       "      <td>September</td>\n",
       "      <td>Thursday</td>\n",
       "      <td>19</td>\n",
       "      <td>computers</td>\n",
       "      <td>notebook</td>\n",
       "      <td>0</td>\n",
       "    </tr>\n",
       "  </tbody>\n",
       "</table>\n",
       "</div>"
      ],
      "text/plain": [
       "       event_type  brand   price  year      month      date  hour  \\\n",
       "468489       view    msi  490.54  2020   December  Saturday    15   \n",
       "430274       view  other  146.92  2020   December  Saturday     9   \n",
       "519937       view  other   54.83  2020   December   Tuesday     7   \n",
       "792050       view  palit  371.46  2021   February    Friday    14   \n",
       "701082       view    amd  204.29  2021    January    Friday     3   \n",
       "685342       view  other  122.86  2021    January   Tuesday    13   \n",
       "299286       view  other   13.92  2020   November   Tuesday    12   \n",
       "744020       view  canon  279.02  2021   February  Thursday    23   \n",
       "270481       view  other   86.13  2020   November    Friday     7   \n",
       "1858         view  topon   15.24  2020  September  Thursday    19   \n",
       "\n",
       "            category product_name  Predict - Event Type  \n",
       "468489     computers   videocards                     0  \n",
       "430274   electronics    telephone                     0  \n",
       "519937   electronics    headphone                     0  \n",
       "792050     computers   videocards                     0  \n",
       "701082     computers          cpu                     0  \n",
       "685342     computers      printer                     0  \n",
       "299286    stationery        other                     0  \n",
       "744020     computers      printer                     0  \n",
       "270481  construction        other                     0  \n",
       "1858       computers     notebook                     0  "
      ]
     },
     "execution_count": 108,
     "metadata": {},
     "output_type": "execute_result"
    }
   ],
   "source": [
    "# Next we will predict use data sampling random\n",
    "sample['Predict - Event Type'] = model.predict(sample_clean)\n",
    "sample.head(10)"
   ]
  },
  {
   "cell_type": "markdown",
   "id": "44e76798-239c-4f75-8836-8e5c978c4aed",
   "metadata": {},
   "source": [
    "# Conclusion"
   ]
  },
  {
   "cell_type": "markdown",
   "id": "25c90de9-f96a-4590-844a-5ccca6a4e5e8",
   "metadata": {},
   "source": [
    "## **EDA (Exploratory Data Analysis)**\n",
    "---\n",
    "- Distribution in terms of customer event_type is still the dominant customer or visitor who only sees me, so it is our job to convert how customers or visitors can convert purchases.\n",
    "- Judging from the type of product that is in demand or the most frequently seen is the category of computers or electronics, so we can design in such a business model to increase profits.\n",
    "- Then it can be seen from the information that customers make more purchases at the end of the year, maybe during that period the type of computer or electronic goods category is doing a promo, so that customers are more interested in making purchases or it could be that customers get year-end bonuses.\n",
    "\n",
    "## **Model**\n",
    "---\n",
    "- From the results of modeling with the default parameters used. The overall model from the evaluation results can be said to be good, in terms of the bias variance tradeoff or overfitting and underviting. Except for the Random Forest and Decision Tree model who can be said to be a little overfitting.\n",
    "- The model should get hyperparameter tuning to improve the performance of the model. So that the model can be better at recognizing data patterns that have been preprocessed before. However, due to the limited time available, I cannot tune the model.\n",
    "- I used the model from KNN to inference the prepared data, from the results of the inference model being able to inference, I'm not saying that this model is very good, from the information on the evaluation of the matrix model in the comparison table that the KNN model is ranked 2nd and from the information confusion matrix also the KNN model can perform classification, so I decided to use the KNN model as my inference model."
   ]
  },
  {
   "cell_type": "code",
   "execution_count": null,
   "id": "0cb69ca2-abbd-4b1e-a22a-a79dd8783ad7",
   "metadata": {},
   "outputs": [],
   "source": []
  }
 ],
 "metadata": {
  "kernelspec": {
   "display_name": "Python 3 (ipykernel)",
   "language": "python",
   "name": "python3"
  },
  "language_info": {
   "codemirror_mode": {
    "name": "ipython",
    "version": 3
   },
   "file_extension": ".py",
   "mimetype": "text/x-python",
   "name": "python",
   "nbconvert_exporter": "python",
   "pygments_lexer": "ipython3",
   "version": "3.9.7"
  }
 },
 "nbformat": 4,
 "nbformat_minor": 5
}
